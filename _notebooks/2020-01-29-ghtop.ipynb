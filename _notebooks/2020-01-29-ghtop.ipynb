{
 "cells": [
  {
   "cell_type": "markdown",
   "metadata": {},
   "source": [
    "# ghtop redux\n",
    "> Things we learned by refactoring a CLI tool with <a href=\"\">fastcore</a>, <a href=\"\">rich</a>, and <a href=\"\">ghapi</a>.\n",
    "\n",
    "- comments: true\n",
    "- toc: true\n",
    "- layout: post\n",
    "- hide: true\n",
    "- categories: [ghapi, fastacore, python]\n",
    "- image: \"https://user-images.githubusercontent.com/1483922/105074862-cb955b00-5a3d-11eb-99c5-3125bb98910b.png\"\n",
    "- author: \"<a href='https://twitter.com/HamelHusain'>Hamel Husain</a> & <a href='https://twitter.com/jeremyphoward'>Jeremy Howard</a>\"\n",
    "- permalink: /ghtop"
   ]
  },
  {
   "cell_type": "markdown",
   "metadata": {},
   "source": [
    "![ghtop](https://user-images.githubusercontent.com/1483922/105071141-0c3ea580-5a39-11eb-8808-34952c0bf26d.gif \"A demo of ghtop.\")"
   ]
  },
  {
   "cell_type": "code",
   "execution_count": 27,
   "metadata": {},
   "outputs": [],
   "source": [
    "#hide\n",
    "from collections import Counter\n",
    "from matplotlib import pyplot as plt\n",
    "%matplotlib inline\n",
    "from fastcore.all import *\n",
    "from ghapi.all import *\n"
   ]
  },
  {
   "cell_type": "markdown",
   "metadata": {},
   "source": [
    "[1]: https://github.com/nat/ghtop\n",
    "[2]: https://github.com/fastai/ghapi\n",
    "\n",
    "## Introduction\n",
    "\n",
    "We recently refactored the CLI tool [ghtop][1], created by the CEO of GitHub, [Nat Friedman](https://github.com/nat).  Nat even described our refactor as a “[tour de force](https://github.com/nat/ghtop/pull/13#issuecomment-743786158)”.  This post describes what we learned along the way.\n",
    "\n",
    "## Motivation\n",
    "\n",
    "Recently, we released [ghapi](https://github.blog/2020-12-18-learn-about-ghapi-a-new-third-party-python-client-for-the-github-api/), a new python client for the GitHub API.  ghapi provides unparalleled ease of access to the GitHub api, as well as utilities for interacting with GitHub Actions.  Part of our motivation for creating ghapi was to accelerate the development of build, testing and deployment tools that help us in maintaining fastai projects.  \n",
    "\n",
    "We recently started using GitHub Actions to perform a wide variety of tasks automatically like: unit and integration [tests](https://github.com/fastai/nbdev/blob/master/.github/workflows/main.yml), deploying [documentation](https://github.com/fastai/fastcore/blob/master/.github/workflows/docs.yml), building [Docker containers](https://github.com/fastai/docker-containers) and [Conda packages](https://github.com/fastai/fastconda), sharing [releases on Twitter](https://github.com/fastai/tweetrel), and much more.  This automation is key to maintaining the vast open source fastai ecosystem with very few maintainers.\n",
    "\n",
    "Since [ghapi][2] is central to so many of these tasks, we wanted to stress-test its efficacy against other projects.  That’s when we found [ghtop][1]. This tool allows you to stream all the public events happening on GitHub to a CLI dashboard.  We thought it would be a fun learning experience to refactor this code base with various fastai tools such as [ghapi][2] and [fastcore](https://github.com/fastai/fastcore), but also try out new libraries like [rich](https://github.com/willmcgugan/rich)."
   ]
  },
  {
   "cell_type": "markdown",
   "metadata": {},
   "source": [
    "## Features we added to our tools\n",
    "\n",
    "While exploring ghtop, we added several features to various fastai tools that we found to be generally useful.\n",
    "\n",
    "### `ghapi` Authentication\n",
    "\n",
    "We added the function [github_auth_device](https://ghapi.fast.ai/auth.html#github_auth_device) which allows users to authenticate their api client with GitHub interactively in a browser.  When we call this function we get the following prompt:"
   ]
  },
  {
   "cell_type": "markdown",
   "metadata": {},
   "source": [
    "```py\n",
    "github_auth_device()\n",
    "```"
   ]
  },
  {
   "cell_type": "code",
   "execution_count": 2,
   "metadata": {},
   "outputs": [
    {
     "name": "stdout",
     "output_type": "stream",
     "text": [
      "\n",
      "First copy your one-time code: 276E-C910\n",
      "Then visit https://github.com/login/device in your browser, and paste the code when prompted.\n",
      "Shall we try to open the link for you? [y/n]\n",
      "\n"
     ]
    }
   ],
   "source": [
    "#hide-input\n",
    "\n",
    "# This particular output is fake because it is meant to be the result an interactive session.\n",
    "# This is for the purposes of formatting for the blog article.\n",
    "print(\"\"\"\n",
    "First copy your one-time code: 276E-C910\n",
    "Then visit https://github.com/login/device in your browser, and paste the code when prompted.\n",
    "Shall we try to open the link for you? [y/n]\n",
    "\"\"\")"
   ]
  },
  {
   "cell_type": "markdown",
   "metadata": {},
   "source": [
    "The browser opens a window that looks like this:\n",
    "    \n",
    "![](ghtop_images/token.png)\n",
    "\n",
    "The function then returns an authenticated token which you can use for various tasks.  While this is not the only way to create a token, this is a user friendly way to create a token, especially for those who are not as familiar with GitHub."
   ]
  },
  {
   "cell_type": "markdown",
   "metadata": {},
   "source": [
    "### `ghapi` Events"
   ]
  },
  {
   "cell_type": "markdown",
   "metadata": {},
   "source": [
    "As a result of our explorations with ghtop, we added an [event module](https://ghapi.fast.ai/event.html) to ghapi.  This is useful for retrieving and inspecting sample events.  Inspecting sample events is important as it allows you to prototype GitHub Actions workflows locally.  You can sample real events with `load_sample_events`:"
   ]
  },
  {
   "cell_type": "code",
   "execution_count": 3,
   "metadata": {},
   "outputs": [],
   "source": [
    "from ghapi.event import load_sample_events\n",
    "evts = load_sample_events()"
   ]
  },
  {
   "cell_type": "markdown",
   "metadata": {},
   "source": [
    "Individual events are formatted as markdown lists to be human readable in Jupyter:"
   ]
  },
  {
   "cell_type": "code",
   "execution_count": 4,
   "metadata": {},
   "outputs": [
    {
     "name": "stdout",
     "output_type": "stream",
     "text": [
      "- id: 14517925737\n",
      "- type: PushEvent\n",
      "- actor: \n",
      "  - id: 17030246\n",
      "  - login: BeckhamL\n",
      "  - display_login: BeckhamL\n",
      "  - gravatar_id: \n",
      "  - url: https://api.github.com/users/BeckhamL\n",
      "  - avatar_url: https://avatars.githubusercontent.com/u/17030246?\n",
      "- repo: \n",
      "  - id: 154349747\n",
      "  - name: BeckhamL/leetcode\n",
      "  - url: https://api.github.com/repos/BeckhamL/leetcode\n",
      "- payload: \n",
      "  - push_id: 6194986903\n",
      "  - size: 1\n",
      "  - distinct_size: 1\n",
      "  - ref: refs/heads/master\n",
      "  - head: 2055b0fcf22f1c3543e38b60199f6882266d32a5\n",
      "  - before: cb16921949c969b5153a0c23ce8fe516d2c8d773\n",
      "  - commits: \n",
      "    - \n",
      "      - sha: 2055b0fcf22f1c3543e38b60199f6882266d32a5\n",
      "      - author: \n",
      "        - email: beckham.lam@mail.mcgill.ca\n",
      "        - name: Beckham Lam\n",
      "      - message: Create detectCapital.ts\n",
      "      - distinct: True\n",
      "      - url: https://api.github.com/repos/BeckhamL/leetcode/commits/2055b0fcf22f1c3543e38b60199f6882266d32a5\n",
      "- public: True\n",
      "- created_at: 2020-12-13T21:32:34Z\n"
     ]
    }
   ],
   "source": [
    "print(evts[0])"
   ]
  },
  {
   "cell_type": "markdown",
   "metadata": {},
   "source": [
    "You can also inspect the json data in an event, which are accessible as attributes:"
   ]
  },
  {
   "cell_type": "code",
   "execution_count": 5,
   "metadata": {},
   "outputs": [
    {
     "data": {
      "text/plain": [
       "'PushEvent'"
      ]
     },
     "execution_count": 5,
     "metadata": {},
     "output_type": "execute_result"
    }
   ],
   "source": [
    "evts[0].type"
   ]
  },
  {
   "cell_type": "markdown",
   "metadata": {},
   "source": [
    "For example, here is the frequency of all `full_types` in the sample:"
   ]
  },
  {
   "cell_type": "code",
   "execution_count": 6,
   "metadata": {},
   "outputs": [
    {
     "data": {
      "image/png": "[encoded data removed]",
      "text/plain": [
       "<Figure size 576x432 with 1 Axes>"
      ]
     },
     "metadata": {
      "needs_background": "light"
     },
     "output_type": "display_data"
    }
   ],
   "source": [
    "x,y = zip(*Counter([o.full_type for o in evts]).most_common())\n",
    "plt.figure(figsize=(8, 6))\n",
    "plt.barh(x[::-1],y[::-1]);"
   ]
  },
  {
   "cell_type": "markdown",
   "metadata": {},
   "source": [
    "We can fetch public events in parallel with [GhApi.list_events_parallel](https://ghapi.fast.ai/event.html#GhApi.list_events_parallel).  In our experiments, **repeatedly calling `list_events_parallel` is fast enough to fetch all current public activity from all users across the entire GitHub platform.**  We use this for `ghtop`.  Behind the scenes, `list_events_parallel` uses Python's [ThreadPoolExecutor](ThreadPoolExecutor) to fetch events in parallel - no fancy distributed systems or complicated infrastructure necessary, even at the scale of GitHub!"
   ]
  },
  {
   "cell_type": "code",
   "execution_count": 7,
   "metadata": {},
   "outputs": [
    {
     "name": "stdout",
     "output_type": "stream",
     "text": [
      "CPU times: user 2 µs, sys: 0 ns, total: 2 µs\n",
      "Wall time: 4.29 µs\n"
     ]
    },
    {
     "data": {
      "text/plain": [
       "240"
      ]
     },
     "execution_count": 7,
     "metadata": {},
     "output_type": "execute_result"
    }
   ],
   "source": [
    "%time\n",
    "api = GhApi()\n",
    "evts = api.list_events_parallel()\n",
    "len(evts)"
   ]
  },
  {
   "cell_type": "markdown",
   "metadata": {},
   "source": [
    "_Note that the GitHub API is stateless, so successive calls to the API will likely return events already seen.  We handle this by using a [set operations](https://realpython.com/python-sets/) to filter out events already seen._"
   ]
  },
  {
   "cell_type": "markdown",
   "metadata": {},
   "source": [
    "### `ghapi` pagination"
   ]
  },
  {
   "cell_type": "markdown",
   "metadata": {},
   "source": [
    "One of the most cumbersome aspects of fetching lots of data from the GitHub api can be [pagination](https://docs.github.com/en/rest/guides/traversing-with-pagination).  As mentioned in the documentation, different endpoints have different pagination rules and defaults.  Therefore, many api clients offer clunky or incomplete interfaces for pagination.  \n",
    "\n",
    "In `ghapi` we added an entire module with various tools to make paging easier.  Below is an example for retrieving repos for the [github org](https://github.com/github).  Without pagination, we can only retrieve a fixed number at a time (by default 30):"
   ]
  },
  {
   "cell_type": "code",
   "execution_count": 8,
   "metadata": {},
   "outputs": [
    {
     "data": {
      "text/plain": [
       "30"
      ]
     },
     "execution_count": 8,
     "metadata": {},
     "output_type": "execute_result"
    }
   ],
   "source": [
    "api = GhApi()\n",
    "repos = api.repos.list_for_org('fastai')\n",
    "len(repos)"
   ]
  },
  {
   "cell_type": "markdown",
   "metadata": {},
   "source": [
    "However, to get more we can paginate through `paged`:"
   ]
  },
  {
   "cell_type": "code",
   "execution_count": 9,
   "metadata": {},
   "outputs": [
    {
     "name": "stdout",
     "output_type": "stream",
     "text": [
      "30 fast-image\n",
      "30 fastforest\n",
      "30 .github\n",
      "8 tweetrel\n"
     ]
    }
   ],
   "source": [
    "from ghapi.event import paged\n",
    "repos = paged(api.repos.list_for_org, 'fastai')\n",
    "for page in repos: print(len(page), page[0].name)"
   ]
  },
  {
   "cell_type": "markdown",
   "metadata": {},
   "source": [
    "You can learn more about this functionality by [reading the docs](https://ghapi.fast.ai/page.html)."
   ]
  },
  {
   "cell_type": "markdown",
   "metadata": {},
   "source": [
    "### `fastcore` Sparklines"
   ]
  },
  {
   "cell_type": "markdown",
   "metadata": {},
   "source": [
    "Part of goals for refactoring ghtop were to introduce cool visualizations in the terminal of data. We drew inspiration from projects like [bashtop](https://github.com/aristocratos/bashtop), which have CLI interfaces that look like this:\n",
    "\n",
    "<div>\n",
    "<img src=\"https://github.com/aristocratos/bashtop/raw/master/Imgs/main.png\" width=\"75%\"/>\n",
    "</div>"
   ]
  },
  {
   "cell_type": "markdown",
   "metadata": {},
   "source": [
    "Concretely, we really liked the idea of sparklines in the terminal.  Therefore, we created the ability to show sparklines with fastcore:"
   ]
  },
  {
   "cell_type": "code",
   "execution_count": 10,
   "metadata": {},
   "outputs": [
    {
     "name": "stdout",
     "output_type": "stream",
     "text": [
      "without \"empty_zero\": ▅▂ ▁▂▁▃▇▅\n",
      "   with \"empty_zero\": ▅▂ ▁▂ ▃▇▅\n"
     ]
    }
   ],
   "source": [
    "from fastcore.utils import sparkline\n",
    "data = [9,6,None,1,4,0,8,15,10]\n",
    "print(f'without \"empty_zero\": {sparkline(data, empty_zero=False)}')\n",
    "print(f'   with \"empty_zero\": {sparkline(data, empty_zero=True )}')"
   ]
  },
  {
   "cell_type": "markdown",
   "metadata": {},
   "source": [
    "For more information on this function, read [the docs](https://fastcore.fast.ai/xtras.html#sparkline). Later in this post, we will describe how we used [Rich](https://github.com/willmcgugan/rich) to add color and animation to these sparklines.  "
   ]
  },
  {
   "cell_type": "markdown",
   "metadata": {},
   "source": [
    "### `fastcore` EventTimer"
   ]
  },
  {
   "cell_type": "markdown",
   "metadata": {},
   "source": [
    "Because we wanted streaming event data to automatically populate sparklines, we created `EventTimer` that constructs a histogram according to a frequency and time span you set.  With `EventTimer`, you can add events with `add`, and get the number of events and their frequency:\n"
   ]
  },
  {
   "cell_type": "code",
   "execution_count": 11,
   "metadata": {},
   "outputs": [
    {
     "name": "stdout",
     "output_type": "stream",
     "text": [
      "Num Events: 6, Freq/sec: 301.1\n",
      "Most recent:  ▃▁▁▇▁ 323.6 274.8 291.3 390.9 283.6\n"
     ]
    }
   ],
   "source": [
    "from fastcore.utils import EventTimer\n",
    "from time import sleep\n",
    "import random\n",
    "\n",
    "def _randwait(): yield from (sleep(random.random()/200) for _ in range(100))\n",
    "\n",
    "c = EventTimer(store=5, span=0.03)\n",
    "for o in _randwait(): c.add(1)\n",
    "print(f'Num Events: {c.events}, Freq/sec: {c.freq:.01f}')\n",
    "print('Most recent: ', sparkline(c.hist), *L(c.hist).map('{:.01f}'))"
   ]
  },
  {
   "cell_type": "markdown",
   "metadata": {},
   "source": [
    "For more information, see [the docs](https://fastcore.fast.ai/xtras.html#EventTimer)."
   ]
  },
  {
   "cell_type": "markdown",
   "metadata": {},
   "source": [
    "## CLI Animations With Rich"
   ]
  },
  {
   "cell_type": "markdown",
   "metadata": {},
   "source": [
    "[Rich](https://github.com/willmcgugan/rich) is an amazing python library that allows you to create beautiful, animated and interactive CLI interfaces.  Below is a preview of some its features:\n",
    "\n",
    "<div>\n",
    "<img src=\"https://github.com/willmcgugan/rich/raw/master/imgs/features.png\" width=\"50%\"/>\n",
    "</div>"
   ]
  },
  {
   "cell_type": "markdown",
   "metadata": {},
   "source": [
    "Rich also offers animated elements like spinners:\n",
    "\n",
    "<div>\n",
    "<img src=\"https://github.com/willmcgugan/rich/raw/master/imgs/spinners.gif\" width=\"50%\" />\n",
    "</div>\n",
    "\n",
    "... and progress bars:\n",
    "\n",
    "<div>\n",
    "<img src=\"https://github.com/willmcgugan/rich/raw/master/imgs/progress.gif\" width=\"50%\" />\n",
    "</div>\n",
    "    \n",
    "While this post is not about rich, we highly recommend visiting [the repo](https://github.com/willmcgugan/rich) and [the docs](https://rich.readthedocs.io/en/latest/) to learn more.  Rich allows you to create your own custom elements.  We created two custom elements - `Stats` and `FixedPanel`, which we describe below:"
   ]
  },
  {
   "cell_type": "markdown",
   "metadata": {},
   "source": [
    "### Stats: Sparklines with metrics\n",
    "\n",
    "`Stats` renders a group of sparklines along with a spinner and a progress bar.  First we define our sparklines, the last argument being a list of event types to count:"
   ]
  },
  {
   "cell_type": "code",
   "execution_count": 12,
   "metadata": {},
   "outputs": [
    {
     "data": {
      "application/vnd.jupyter.widget-view+json": {
       "model_id": "6887c0803e184e74baf3f242cf13adf8",
       "version_major": 2,
       "version_minor": 0
      },
      "text/plain": [
       "Output()"
      ]
     },
     "metadata": {},
     "output_type": "display_data"
    },
    {
     "data": {
      "text/html": [
       "<pre style=\"white-space:pre;overflow-x:auto;line-height:normal;font-family:Menlo,'DejaVu Sans Mono',consolas,'Courier New',monospace\"> 🌍      <span style=\"color: #008000\"> Issues</span>          <span style=\"color: #800000\"> PR</span>          <span style=\"color: #000080\"> Follow</span>        <span style=\"color: #800000\"> Other</span>               Quota        \n",
       "/min       <span style=\"color: #008000\">0.0</span>            <span style=\"color: #800000\">0.0</span>            <span style=\"color: #000080\">0.0</span>            <span style=\"color: #800000\">0.0</span>             <span style=\"color: #3a3a3a\">━━━━━━━</span> <span style=\"color: #800080\">  0%</span>    \n",
       "</pre>\n"
      ],
      "text/plain": [
       "<rich.jupyter.JupyterRenderable at 0x7fa9c02f0af0>"
      ]
     },
     "metadata": {},
     "output_type": "display_data"
    }
   ],
   "source": [
    "from ghtop.richext import *\n",
    "from ghtop.all_rich import *\n",
    "console = Console()\n",
    "\n",
    "\n",
    "s1 = ESpark('Issues', 'green', [IssueCommentEvent, IssuesEvent])\n",
    "s2 = ESpark('PR', 'red', [PullRequestEvent, PullRequestReviewCommentEvent, PullRequestReviewEvent])\n",
    "s3 = ESpark('Follow', 'blue', [WatchEvent, StarEvent])\n",
    "s4 = ESpark('Other', 'red')\n",
    "\n",
    "s = Stats([s1,s2,s3,s4], store=5, span=.1, stacked=True)\n",
    "console.print(s)"
   ]
  },
  {
   "cell_type": "markdown",
   "metadata": {},
   "source": [
    "You can add events to update counters and sparklines with `add_events`:"
   ]
  },
  {
   "cell_type": "code",
   "execution_count": 13,
   "metadata": {},
   "outputs": [
    {
     "data": {
      "text/html": [
       "<pre style=\"white-space:pre;overflow-x:auto;line-height:normal;font-family:Menlo,'DejaVu Sans Mono',consolas,'Courier New',monospace\"> 🌍      <span style=\"color: #008000\"> Issues</span>          <span style=\"color: #800000\"> PR</span>          <span style=\"color: #000080\"> Follow</span>        <span style=\"color: #800000\"> Other</span>               Quota        \n",
       "/min    <span style=\"color: #008000\">11772 ▁▇</span>       <span style=\"color: #800000\">16546 ▁▇</span>        <span style=\"color: #000080\">5991 ▁▇</span>        <span style=\"color: #800000\">6484 ▁</span>            <span style=\"color: #3a3a3a\">━━━━━━━</span> <span style=\"color: #800080\">  0%</span>    \n",
       "</pre>\n"
      ],
      "text/plain": [
       "<rich.jupyter.JupyterRenderable at 0x7fa9c043cca0>"
      ]
     },
     "metadata": {},
     "output_type": "display_data"
    }
   ],
   "source": [
    "evts = load_sample_events()\n",
    "s.add_events(evts)\n",
    "console.print(s)"
   ]
  },
  {
   "cell_type": "markdown",
   "metadata": {},
   "source": [
    "You can update the progress bar with the `update_prog` method:"
   ]
  },
  {
   "cell_type": "code",
   "execution_count": 14,
   "metadata": {},
   "outputs": [
    {
     "data": {
      "text/html": [
       "<pre style=\"white-space:pre;overflow-x:auto;line-height:normal;font-family:Menlo,'DejaVu Sans Mono',consolas,'Courier New',monospace\"> 🌍      <span style=\"color: #008000\"> Issues</span>          <span style=\"color: #800000\"> PR</span>          <span style=\"color: #000080\"> Follow</span>        <span style=\"color: #800000\"> Other</span>               Quota        \n",
       "/min     <span style=\"color: #008000\">4076 ▁▇</span>        <span style=\"color: #800000\">5408 ▁▇</span>        <span style=\"color: #000080\">1834 ▁▇</span>        <span style=\"color: #800000\">5998 ▁</span>            <span style=\"color: #f92672\">━━━╸</span><span style=\"color: #3a3a3a\">━━━</span> <span style=\"color: #800080\"> 50%</span>    \n",
       "</pre>\n"
      ],
      "text/plain": [
       "<rich.jupyter.JupyterRenderable at 0x7fa9c044dd90>"
      ]
     },
     "metadata": {},
     "output_type": "display_data"
    }
   ],
   "source": [
    "s.update_prog(50)\n",
    "console.print(s)"
   ]
  },
  {
   "cell_type": "markdown",
   "metadata": {},
   "source": [
    "Here is what the animated version looks like:"
   ]
  },
  {
   "cell_type": "markdown",
   "metadata": {},
   "source": [
    "![](ghtop_images/sparknb.gif)"
   ]
  },
  {
   "cell_type": "markdown",
   "metadata": {},
   "source": [
    "### FixedPanel: A panel with fixed height\n",
    "\n",
    "A key aspect of ghtop is showing events in different panels.  We created `FixedPanel` to allow us to arrange panels in a grid that we can incrementally add events to:"
   ]
  },
  {
   "cell_type": "code",
   "execution_count": 28,
   "metadata": {},
   "outputs": [
    {
     "data": {
      "text/html": [
       "<pre style=\"white-space:pre;overflow-x:auto;line-height:normal;font-family:Menlo,'DejaVu Sans Mono',consolas,'Courier New',monospace\"> ─────────────────── ghtop ───────────────────  ────────────────── ghtop ─────────────────── \n",
       "  📪  <span style=\"color: #000080; font-weight: bold\">dependabo…</span><span style=\"color: #000080\">closed PR #3 o…</span><span style=\"color: #000080; font-style: italic\">herzli…</span><span style=\"color: #000080\">\"Bump …</span>    📪  <span style=\"color: #000080; font-weight: bold\">dependabo…</span><span style=\"color: #000080\">closed PR #3 …</span><span style=\"color: #000080; font-style: italic\">herzli…</span><span style=\"color: #000080\">\"Bump …</span>  \n",
       "  ⭐  <span style=\"font-weight: bold\">dongjun13 </span>pushed 1 commi…<span style=\"font-style: italic\">dongjun13/2</span>       ⭐  <span style=\"font-weight: bold\">dongjun13 </span>pushed 1 comm…<span style=\"font-style: italic\">dongjun13/2</span>     \n",
       "  ⭐  <span style=\"font-weight: bold\">admmonito…</span>pushed 1 commi…<span style=\"font-style: italic\">admmonitors/t…</span>    ⭐  <span style=\"font-weight: bold\">admmonito…</span>pushed 1 comm…<span style=\"font-style: italic\">admmonitors/t…</span>  \n",
       "  ⭐  <span style=\"font-weight: bold\">randomper…</span>pushed 1 commi…<span style=\"font-style: italic\">randomperson1…</span>    ⭐  <span style=\"font-weight: bold\">randomper…</span>pushed 1 comm…<span style=\"font-style: italic\">randomperson1…</span>  \n",
       "  ⭐  <span style=\"font-weight: bold\">ahocevar </span>pushed 6 commi…<span style=\"font-style: italic\">openlayers/ope…</span>    ⭐  <span style=\"font-weight: bold\">ahocevar </span>pushed 6 commi…<span style=\"font-style: italic\">openlayers/op…</span>  \n",
       "  🏭  <span style=\"color: #800000; font-weight: bold\">arjmoto </span><span style=\"color: #800000\">created branch …</span><span style=\"color: #800000; font-style: italic\">arjmoto/redux-…</span>    🏭  <span style=\"color: #800000; font-weight: bold\">arjmoto </span><span style=\"color: #800000\">created branch…</span><span style=\"color: #800000; font-style: italic\">arjmoto/redux-…</span>  \n",
       "  💬  <span style=\"color: #008000; font-weight: bold\">stale[bot…</span><span style=\"color: #008000\">created commen…</span><span style=\"color: #008000; font-style: italic\">ironha…</span><span style=\"color: #008000\">\"This …</span>    💬  <span style=\"color: #008000; font-weight: bold\">stale[bot…</span><span style=\"color: #008000\">created comme…</span><span style=\"color: #008000; font-style: italic\">ironha…</span><span style=\"color: #008000\">\"This …</span>  \n",
       "  ⭐  <span style=\"font-weight: bold\">commit-b0…</span>pushed 1 commi…<span style=\"font-style: italic\">commit-b0t/co…</span>    ⭐  <span style=\"font-weight: bold\">commit-b0…</span>pushed 1 comm…<span style=\"font-style: italic\">commit-b0t/co…</span>  \n",
       "  ⭐  <span style=\"font-weight: bold\">yakirgot </span>pushed 2 commi…<span style=\"font-style: italic\">yakirgot/snake</span>     ⭐  <span style=\"font-weight: bold\">yakirgot </span>pushed 2 commi…<span style=\"font-style: italic\">yakirgot/snake</span>  \n",
       "  💬  <span style=\"color: #008000; font-weight: bold\">awolf78 </span><span style=\"color: #008000\">created comment…</span><span style=\"color: #008000; font-style: italic\">Impulse…</span><span style=\"color: #008000\">\"If yo…</span>    💬  <span style=\"color: #008000; font-weight: bold\">awolf78 </span><span style=\"color: #008000\">created commen…</span><span style=\"color: #008000; font-style: italic\">Impulse…</span><span style=\"color: #008000\">\"If yo…</span>  \n",
       "  ⭐  <span style=\"font-weight: bold\">kreus7 </span>pushed 1 commit…<span style=\"font-style: italic\">kreus7/kreusada…</span>    ⭐  <span style=\"font-weight: bold\">kreus7 </span>pushed 1 commit…<span style=\"font-style: italic\">kreus7/kreusad…</span>  \n",
       "  ⭐  <span style=\"font-weight: bold\">rgripper </span>pushed 1 commi…<span style=\"font-style: italic\">rgripper/webco…</span>    ⭐  <span style=\"font-weight: bold\">rgripper </span>pushed 1 commi…<span style=\"font-style: italic\">rgripper/webc…</span>  \n",
       "  👀  <span style=\"color: #808000; font-weight: bold\">thelittle…</span><span style=\"color: #808000\">started watchi…</span><span style=\"color: #808000; font-style: italic\">ritchie46/pol…</span>    👀  <span style=\"color: #808000; font-weight: bold\">thelittle…</span><span style=\"color: #808000\">started watch…</span><span style=\"color: #808000; font-style: italic\">ritchie46/pol…</span>  \n",
       "  🏭  <span style=\"color: #800000; font-weight: bold\">adrian698 </span><span style=\"color: #800000\">created branch…</span><span style=\"color: #800000; font-style: italic\">adrian698/Test</span>    🏭  <span style=\"color: #800000; font-weight: bold\">adrian698 </span><span style=\"color: #800000\">created branc…</span><span style=\"color: #800000; font-style: italic\">adrian698/Test</span>  \n",
       "  ⭐  <span style=\"font-weight: bold\">mergify[b…</span>pushed 2 commi…<span style=\"font-style: italic\">spbu-coding/6…</span>    ⭐  <span style=\"font-weight: bold\">mergify[b…</span>pushed 2 comm…<span style=\"font-style: italic\">spbu-coding/6…</span>  \n",
       " ─────────────────────────────────────────────  ──────────────────────────────────────────── \n",
       "</pre>\n"
      ],
      "text/plain": [
       "<rich.table.Table at 0x7fa9f30940d0>"
      ]
     },
     "execution_count": 28,
     "metadata": {},
     "output_type": "execute_result"
    }
   ],
   "source": [
    "p = FixedPanel(15, box=box.HORIZONTALS, title='ghtop')\n",
    "for e in evts: p.append(e)\n",
    "grid([[p,p]])"
   ]
  },
  {
   "cell_type": "markdown",
   "metadata": {},
   "source": [
    "To learn more about our extensions to `rich` see [these docs](https://ghtop.fast.ai/richext.html)."
   ]
  },
  {
   "cell_type": "markdown",
   "metadata": {},
   "source": [
    "### A demo of ghtop animations\n",
    "\n",
    "Putting all of this together, we get the following results:\n",
    "\n",
    "**4 Panels with a sparkline for different types of events:**\n",
    "\n",
    "![ghtop](https://user-images.githubusercontent.com/1483922/105071141-0c3ea580-5a39-11eb-8808-34952c0bf26d.gif)\n",
    "\n",
    "**single panel with a sparkline**\n",
    "\n",
    "![ghtop-tail](https://user-images.githubusercontent.com/1483922/105073917-91778980-5a3c-11eb-9a4c-4532b8bd338f.gif)\n",
    "\n",
    "To learn more about ghtop, see [the docs](https://ghtop.fast.ai/)."
   ]
  },
  {
   "cell_type": "markdown",
   "metadata": {},
   "source": [
    "## Interesting python features used\n",
    "\n",
    "While making these docs, we used the following python features that at least one person we demoed it to found interesting or didn't know about.  If you have been using python for sometime, you might know about all or most of these features:"
   ]
  },
  {
   "cell_type": "markdown",
   "metadata": {},
   "source": [
    "### yield from\n",
    "\n",
    "Generators are a powerful feature of python, which are especially useful for iterating through large datasets lazily. "
   ]
  },
  {
   "cell_type": "markdown",
   "metadata": {},
   "source": [
    "### dequeue"
   ]
  },
  {
   "cell_type": "code",
   "execution_count": null,
   "metadata": {},
   "outputs": [],
   "source": []
  },
  {
   "cell_type": "markdown",
   "metadata": {},
   "source": [
    "### f-strings"
   ]
  },
  {
   "cell_type": "code",
   "execution_count": null,
   "metadata": {},
   "outputs": [],
   "source": []
  },
  {
   "cell_type": "code",
   "execution_count": null,
   "metadata": {},
   "outputs": [],
   "source": []
  }
 ],
 "metadata": {
  "kernelspec": {
   "display_name": "Python 3",
   "language": "python",
   "name": "python3"
  },
  "language_info": {
   "codemirror_mode": {
    "name": "ipython",
    "version": 3
   },
   "file_extension": ".py",
   "mimetype": "text/x-python",
   "name": "python",
   "nbconvert_exporter": "python",
   "pygments_lexer": "ipython3",
   "version": "3.8.3"
  }
 },
 "nbformat": 4,
 "nbformat_minor": 4
}
