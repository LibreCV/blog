{
 "nbformat": 4,
 "nbformat_minor": 0,
 "metadata": {
  "colab": {
   "name": "2021-02-09-task-spooler.ipynb",
   "provenance": [],
   "collapsed_sections": []
  },
  "kernelspec": {
   "name": "python3",
   "language": "python",
   "display_name": "Python 3"
  },
  "accelerator": "GPU"
 },
 "cells": [
  {
   "cell_type": "markdown",
   "metadata": {
    "id": "Th0gzqt626I2"
   },
   "source": [
    "# Deep Learning Experiments with Task Spooler\n",
    "> A Unix Spooler with GPU support\n",
    "\n",
    "- toc: false\n",
    "- branch: master\n",
    "- badges: true\n",
    "- comments: false\n",
    "- categories: [spooler, task manager, deep learning]\n"
   ]
  },
  {
   "cell_type": "markdown",
   "metadata": {
    "collapsed": false,
    "pycharm": {
     "name": "#%% md\n"
    },
    "id": "MF4KLO785RH8"
   },
   "source": [
    "## Introduction\n",
    "\n",
    "Task Spooler was originally developed by Lluis Batlle i Rossell but is no longer maintained.\n",
    "The branch introduced here is a [fork](https://github.com/justanhduc/task-spooler) of the original program with more features including GPU support."
   ]
  },
  {
   "cell_type": "markdown",
   "metadata": {
    "id": "cV6B1W-O3Eam"
   },
   "source": [
    "## Installation\n",
    "\n",
    "First, you can clone Task Spooler from Github.\n",
    "Optionally, you can choose a different version by checking out another tag.\n",
    "In this tutorial, I will use the latest version on `master`."
   ]
  },
  {
   "cell_type": "code",
   "metadata": {
    "id": "mZ0PA4Lc1Sfx"
   },
   "source": [
    "%%capture\n",
    "!git clone https://github.com/justanhduc/task-spooler"
   ],
   "execution_count": 1,
   "outputs": []
  },
  {
   "cell_type": "markdown",
   "metadata": {
    "id": "SZwgvI9-3TyY"
   },
   "source": [
    "Next, you need to create a `CUDA_HOME` environment variable to point to the CUDA root directory.\n",
    "Then, you can execute the given install script."
   ]
  },
  {
   "cell_type": "code",
   "metadata": {
    "colab": {
     "base_uri": "https://localhost:8080/"
    },
    "id": "3YP2619O1ols",
    "outputId": "223b55bf-ec41-4d71-be53-0045e5f21836"
   },
   "source": [
    "!cd task-spooler/ && CUDA_HOME=/usr/local/cuda ./reinstall"
   ],
   "execution_count": 2,
   "outputs": [
    {
     "output_type": "stream",
     "text": [
      "rm -f *.o ts\n",
      "cc -pedantic -ansi -Wall -g -O0 -std=c11 -D_XOPEN_SOURCE=500 -D__STRICT_ANSI__ -c main.c\n",
      "cc -pedantic -ansi -Wall -g -O0 -std=c11 -D_XOPEN_SOURCE=500 -D__STRICT_ANSI__ -c server.c\n",
      "cc -pedantic -ansi -Wall -g -O0 -std=c11 -D_XOPEN_SOURCE=500 -D__STRICT_ANSI__ -c server_start.c\n",
      "cc -pedantic -ansi -Wall -g -O0 -std=c11 -D_XOPEN_SOURCE=500 -D__STRICT_ANSI__ -c client.c\n",
      "cc -pedantic -ansi -Wall -g -O0 -std=c11 -D_XOPEN_SOURCE=500 -D__STRICT_ANSI__ -c msgdump.c\n",
      "cc -pedantic -ansi -Wall -g -O0 -std=c11 -D_XOPEN_SOURCE=500 -D__STRICT_ANSI__ -c jobs.c\n",
      "cc -pedantic -ansi -Wall -g -O0 -std=c11 -D_XOPEN_SOURCE=500 -D__STRICT_ANSI__ -c execute.c\n",
      "cc -pedantic -ansi -Wall -g -O0 -std=c11 -D_XOPEN_SOURCE=500 -D__STRICT_ANSI__ -c msg.c\n",
      "cc -pedantic -ansi -Wall -g -O0 -std=c11 -D_XOPEN_SOURCE=500 -D__STRICT_ANSI__ -c mail.c\n",
      "cc -pedantic -ansi -Wall -g -O0 -std=c11 -D_XOPEN_SOURCE=500 -D__STRICT_ANSI__ -c error.c\n",
      "cc -pedantic -ansi -Wall -g -O0 -std=c11 -D_XOPEN_SOURCE=500 -D__STRICT_ANSI__ -c signals.c\n",
      "cc -pedantic -ansi -Wall -g -O0 -std=c11 -D_XOPEN_SOURCE=500 -D__STRICT_ANSI__ -c list.c\n",
      "cc -pedantic -ansi -Wall -g -O0 -std=c11 -D_XOPEN_SOURCE=500 -D__STRICT_ANSI__ -c print.c\n",
      "cc -pedantic -ansi -Wall -g -O0 -std=c11 -D_XOPEN_SOURCE=500 -D__STRICT_ANSI__ -c info.c\n",
      "cc -pedantic -ansi -Wall -g -O0 -std=c11 -D_XOPEN_SOURCE=500 -D__STRICT_ANSI__ -c env.c\n",
      "cc -pedantic -ansi -Wall -g -O0 -std=c11 -D_XOPEN_SOURCE=500 -D__STRICT_ANSI__ -c tail.c\n",
      "cc -pedantic -ansi -Wall -g -O0 -std=c11 -D_XOPEN_SOURCE=500 -D__STRICT_ANSI__ -L/usr/local/cuda/lib64 -I/usr/local/cuda/include -lpthread -c gpu.c\n",
      "In file included from \u001B[01m\u001B[Kgpu.c:6:0\u001B[m\u001B[K:\n",
      "\u001B[01m\u001B[K/usr/local/cuda/include/nvml.h:6208:51:\u001B[m\u001B[K \u001B[01;35m\u001B[Kwarning: \u001B[m\u001B[KISO C restricts enumerator values to range of ‘\u001B[01m\u001B[Kint\u001B[m\u001B[K’ [\u001B[01;35m\u001B[K-Wpedantic\u001B[m\u001B[K]\n",
      "     NVML_VGPU_COMPATIBILITY_LIMIT_OTHER         = \u001B[01;35m\u001B[K0x80000000\u001B[m\u001B[K,    //!< Compatibility is limited by an undefined factor.\n",
      "                                                   \u001B[01;35m\u001B[K^~~~~~~~~~\u001B[m\u001B[K\n",
      "cc  -o ts main.o server.o server_start.o client.o msgdump.o jobs.o execute.o msg.o mail.o error.o signals.o list.o print.o info.o env.o tail.o gpu.o -L/usr/local/cuda/lib64 -L/usr/local/cuda/lib64/stubs -I/usr/local/cuda/include -lpthread -lcudart -lcublas -fopenmp -lnvidia-ml\n",
      "make: 'uninstall' is up to date.\n",
      "install -c -d /usr/local/bin\n",
      "install -c ts /usr/local/bin\n",
      "install -c -d /usr/local/share/man/man1\n",
      "install -c -m 644 ts.1 /usr/local/share/man/man1\n"
     ],
     "name": "stdout"
    }
   ]
  },
  {
   "cell_type": "markdown",
   "metadata": {
    "id": "MdMNJYzO2fSI"
   },
   "source": [
    "## Basics of Task Spooler\n",
    "### First look\n"
   ]
  },
  {
   "cell_type": "code",
   "metadata": {
    "colab": {
     "base_uri": "https://localhost:8080/"
    },
    "id": "F3nM5Qs92MC3",
    "outputId": "e3cbcd07-c674-42c4-b5e0-fd9a74cad2d7"
   },
   "source": [
    "!ts\n"
   ],
   "execution_count": 11,
   "outputs": [
    {
     "output_type": "stream",
     "text": [
      "ID   State      Output               E-Level  Time   GPUs  Command [run=0/1]\n"
     ],
     "name": "stdout"
    }
   ]
  },
  {
   "cell_type": "markdown",
   "metadata": {
    "id": "HnDCT-c5a2f0"
   },
   "source": [
    "The interface of Task Spooler can be seen like above by simply executing `ts` without argument.\n",
    "In the figure above, `ID` refers to job ID.\n",
    "There are four main types of `State`: `running` indicates that a job is currently running,\n",
    "`queued` that a CPU job is waiting to be executed, `allocating` is a queued GPU job,\n",
    "and `running` means the job is currently being executed.\n",
    "When a job is executed, the `stdout` stream is redirected to a file under the `Output` tab.\n",
    "These log files will never automatically deleted even after the job list is cleared.\n",
    "`E-Level` captures and displays the return error of a process.\n",
    "`Time` indicates the running time of a job.\n",
    "The running command is shown in the `Command` column.\n",
    "The numbers inside the square bracket next to `Command` specify the number of currently running\n",
    "jobs and the maximum jobs (slots) that can be run in parallel.\n",
    "For example, in the figure above, there is no running job and you can run at most one job in \n",
    "parallel, respectively.\n",
    "The maximum slot number can be adjusted manually.\n"
   ]
  },
  {
   "cell_type": "markdown",
   "metadata": {
    "id": "LB6pAJZo2vDe"
   },
   "source": [
    "### Queuing your first job\n",
    "\n",
    "Jobs can be added by simply appending `ts` in front of your command.\n",
    "For e.g., to run make the system sleep for 10 seconds using Task Spooler, execute"
   ]
  },
  {
   "cell_type": "code",
   "metadata": {
    "colab": {
     "base_uri": "https://localhost:8080/"
    },
    "id": "Ey9T-LnN4fqy",
    "outputId": "c327f2b5-ffaf-4935-bffd-e202af44ed1e"
   },
   "source": [
    "!ts sleep 10\n",
    "!ts\n",
    "!sleep 10  # lets check ts again after 10 seconds\n",
    "!ts"
   ],
   "execution_count": null,
   "outputs": [
    {
     "output_type": "stream",
     "text": [
      "0\n",
      "ID   State      Output               E-Level  Time   GPUs  Command [run=1/1]\n",
      "0    running    /tmp/ts-out.j0MGwO                   0     sleep 10\n",
      "ID   State      Output               E-Level  Time   GPUs  Command [run=0/1]\n",
      "0    finished   /tmp/ts-out.j0MGwO   0        10.00s 0     sleep 10\n"
     ],
     "name": "stdout"
    }
   ]
  },
  {
   "cell_type": "markdown",
   "metadata": {
    "id": "-oKjuEFD4j_4"
   },
   "source": [
    "You can see that the first job with ID `0` is currently running, and\n",
    "the other job is being queued.\n",
    "After 10 seconds, the first job will finish with an `E-Level` of `0` and \n",
    "the second job will start.\n",
    "\n",
    "To enable running more jobs in parallel, you can increase the maximum slot number by\n",
    "using a `-S` flag followed by the desired number.\n",
    "For instance,"
   ]
  },
  {
   "cell_type": "code",
   "metadata": {
    "colab": {
     "base_uri": "https://localhost:8080/"
    },
    "id": "buV6tfWJ5N6K",
    "outputId": "5b2496a3-e2a7-4b7c-9c42-965fbeb891fc"
   },
   "source": [
    "!ts -S 4\n",
    "!ts"
   ],
   "execution_count": null,
   "outputs": [
    {
     "output_type": "stream",
     "text": [
      "ID   State      Output               E-Level  Time   GPUs  Command [run=0/4]\n",
      "0    finished   /tmp/ts-out.j0MGwO   0        10.00s 0     sleep 10\n"
     ],
     "name": "stdout"
    }
   ]
  },
  {
   "cell_type": "markdown",
   "metadata": {
    "id": "-G4a228m5TZe"
   },
   "source": [
    "The command above allows you to run 4 jobs at the same time.\n",
    "You can verify by typing `ts` and the last number in the square bracket should change to `4`.\n",
    "Let's try queuing 5 jobs at once and this time we should increase the sleep time to \n",
    "`100` so that the job doesn't end too fast.\n",
    "You should be able to see something like this\n"
   ]
  },
  {
   "cell_type": "code",
   "metadata": {
    "colab": {
     "base_uri": "https://localhost:8080/"
    },
    "id": "UPUWW7655ek2",
    "outputId": "ebdc0d10-f42b-4541-cbd1-df99056f042a"
   },
   "source": [
    "!ts sleep 100\n",
    "!ts sleep 20\n",
    "!ts sleep 30\n",
    "!ts sleep 40\n",
    "!ts sleep 10\n",
    "!ts"
   ],
   "execution_count": null,
   "outputs": [
    {
     "output_type": "stream",
     "text": [
      "1\n",
      "2\n",
      "3\n",
      "4\n",
      "5\n",
      "ID   State      Output               E-Level  Time   GPUs  Command [run=4/4]\n",
      "1    running    /tmp/ts-out.xDq00e                   0     sleep 100\n",
      "2    running    /tmp/ts-out.HUzUai                   0     sleep 20\n",
      "3    running    /tmp/ts-out.sYcGno                   0     sleep 30\n",
      "4    running    /tmp/ts-out.ArV4nv                   0     sleep 40\n",
      "5    queued     (file)                               0     sleep 10\n",
      "0    finished   /tmp/ts-out.j0MGwO   0        10.00s 0     sleep 10\n"
     ],
     "name": "stdout"
    }
   ]
  },
  {
   "cell_type": "markdown",
   "metadata": {
    "id": "MxyRL1I152ir"
   },
   "source": [
    "### Viewing command outputs\n",
    "\n",
    "As mentioned above, the `stdout` of the command is redirected to a file specified in the \n",
    "`Output` column. \n",
    "To manually see the written output, you can simply look for that file.\n",
    "But of course Task Spooler is more than that. It lets you read the outputs contents in two ways\n",
    "via the flags `-t` and `-c`.\n",
    "\n",
    "`-c`, which stands for `cat`, allows you to see all the output from the beginning to the end.\n",
    "`-t`, which means `tail`, displays only the last 10 lines of the output.\n",
    "Let's try them out.\n",
    "First, we can something that can produce a lot of texts, like `ls`, `df` or `du`.\n",
    "The choice is yours.\n",
    "For me, I ran `ts ls /usr/bin`. The job ID of the command in my case is `0` so to visualize \n",
    "the whole output, I used `ts -c 0`. It displayed a long list of excutable files.\n",
    "When I typed `ts -t 0`, it showed only the last 10 lines.\n"
   ]
  },
  {
   "cell_type": "code",
   "metadata": {
    "colab": {
     "base_uri": "https://localhost:8080/"
    },
    "id": "cFE27syx6Cmk",
    "outputId": "6263c81c-ae16-43dc-d103-8a292834dc37"
   },
   "source": [
    "#collapse-output\n",
    "!ts -K  # reset Task Spooler. it will be introduced later\n",
    "!ts ls /usr/bin\n",
    "!ts -t 0"
   ],
   "execution_count": 3,
   "outputs": [
    {
     "output_type": "stream",
     "text": [
      "0\n",
      "yes\n",
      "zdump\n",
      "zip\n",
      "zipcloak\n",
      "zipdetails\n",
      "zipgrep\n",
      "zipinfo\n",
      "zipnote\n",
      "zipsplit\n",
      "zrun\n"
     ],
     "name": "stdout"
    }
   ]
  },
  {
   "cell_type": "code",
   "metadata": {
    "id": "fx-7toBJ6RK5"
   },
   "source": [
    "%%capture\n",
    "\n",
    "!ts -c 0"
   ],
   "execution_count": 4,
   "outputs": []
  },
  {
   "cell_type": "markdown",
   "metadata": {
    "id": "3B7oha0o6WqJ"
   },
   "source": [
    "### Miscs\n",
    "\n",
    "There are many other flag options to manage your tasks.\n",
    "First of all, to see all the available options, use a `-h` options.\n",
    "Among these, the ones you probably will use most are `-r`, `-C`, `-k`, `-T` and `-K`.\n",
    "To remove a queued or finished job (with `finished`, `queued` or `allocating` status), \n",
    "use `-r` with optionally a job ID.\n",
    "For example, `ts -r` removes the last added job if it is not running yet.\n",
    "`ts -r 10` removes the job with ID `10`.\n",
    "If the job is successfully removed, it should disappear from the job list.\n",
    "\n",
    "\n"
   ]
  },
  {
   "cell_type": "code",
   "metadata": {
    "colab": {
     "base_uri": "https://localhost:8080/"
    },
    "id": "oLgyt9sr6k40",
    "outputId": "88ecfd56-7fc3-4ed2-e17b-c4c426d54a16"
   },
   "source": [
    "!ts -K\n",
    "!ts -S 2  # lets run 2 tasks at a time\n",
    "!ts sleep 100\n",
    "!ts sleep 100\n",
    "!ts sleep 100\n",
    "!ts"
   ],
   "execution_count": null,
   "outputs": [
    {
     "output_type": "stream",
     "text": [
      "0\n",
      "1\n",
      "2\n",
      "ID   State      Output               E-Level  Time   GPUs  Command [run=2/2]\n",
      "0    running    /tmp/ts-out.gClvpl                   0     sleep 100\n",
      "1    running    /tmp/ts-out.rW9nIv                   0     sleep 100\n",
      "2    queued     (file)                               0     sleep 100\n"
     ],
     "name": "stdout"
    }
   ]
  },
  {
   "cell_type": "code",
   "metadata": {
    "colab": {
     "base_uri": "https://localhost:8080/"
    },
    "id": "XFrbTWwF64pZ",
    "outputId": "c281e9f7-f61e-4801-b148-aa162b2fc5a5"
   },
   "source": [
    "!ts -r 2  # remove job 2\n",
    "!ts"
   ],
   "execution_count": null,
   "outputs": [
    {
     "output_type": "stream",
     "text": [
      "ID   State      Output               E-Level  Time   GPUs  Command [run=2/2]\n",
      "0    running    /tmp/ts-out.gClvpl                   0     sleep 100\n",
      "1    running    /tmp/ts-out.rW9nIv                   0     sleep 100\n"
     ],
     "name": "stdout"
    }
   ]
  },
  {
   "cell_type": "markdown",
   "metadata": {
    "id": "UbMO04R37dcv"
   },
   "source": [
    "To kill a running job, use `ts -k <jobid>`."
   ]
  },
  {
   "cell_type": "code",
   "metadata": {
    "colab": {
     "base_uri": "https://localhost:8080/"
    },
    "id": "n27AGKVC6_NQ",
    "outputId": "df6e9e79-e183-42db-eb0d-7912517e484b"
   },
   "source": [
    "!ts -k 0  # lets kill job 0\n",
    "!ts"
   ],
   "execution_count": null,
   "outputs": [
    {
     "output_type": "stream",
     "text": [
      "ID   State      Output               E-Level  Time   GPUs  Command [run=1/2]\n",
      "1    running    /tmp/ts-out.rW9nIv                   0     sleep 100\n",
      "0    finished   /tmp/ts-out.gClvpl   -1        8.07s 0     sleep 100\n"
     ],
     "name": "stdout"
    }
   ]
  },
  {
   "cell_type": "code",
   "metadata": {
    "colab": {
     "base_uri": "https://localhost:8080/"
    },
    "id": "RV0tCROZ7I0q",
    "outputId": "744fca22-9d22-41be-a403-2442546a809e"
   },
   "source": [
    "# Queue some more jobs here\n",
    "!ts -S 5\n",
    "!ts sleep 100\n",
    "!ts sleep 100\n",
    "!ts sleep 100\n",
    "!ts"
   ],
   "execution_count": null,
   "outputs": [
    {
     "output_type": "stream",
     "text": [
      "3\n",
      "4\n",
      "5\n",
      "ID   State      Output               E-Level  Time   GPUs  Command [run=4/5]\n",
      "1    running    /tmp/ts-out.rW9nIv                   0     sleep 100\n",
      "3    running    /tmp/ts-out.BeUKip                   0     sleep 100\n",
      "4    running    /tmp/ts-out.uFu50z                   0     sleep 100\n",
      "5    running    /tmp/ts-out.o0hd1F                   0     sleep 100\n",
      "0    finished   /tmp/ts-out.gClvpl   -1        8.07s 0     sleep 100\n"
     ],
     "name": "stdout"
    }
   ]
  },
  {
   "cell_type": "markdown",
   "metadata": {
    "id": "uX_gsls07xuD"
   },
   "source": [
    "To kill all running jobs, use `ts -T`."
   ]
  },
  {
   "cell_type": "code",
   "metadata": {
    "colab": {
     "base_uri": "https://localhost:8080/"
    },
    "id": "5cX0YiSm7Td0",
    "outputId": "5b02f897-1d40-4e65-d77a-b1c04f32ae83"
   },
   "source": [
    "!ts -T  # terminates all running jobs\n",
    "!ts"
   ],
   "execution_count": null,
   "outputs": [
    {
     "output_type": "stream",
     "text": [
      "ID   State      Output               E-Level  Time   GPUs  Command [run=0/5]\n",
      "0    finished   /tmp/ts-out.gClvpl   -1        8.07s 0     sleep 100\n",
      "1    finished   /tmp/ts-out.rW9nIv   -1       22.42s 0     sleep 100\n",
      "5    finished   /tmp/ts-out.o0hd1F   -1        8.84s 0     sleep 100\n",
      "3    finished   /tmp/ts-out.BeUKip   -1        9.06s 0     sleep 100\n",
      "4    finished   /tmp/ts-out.uFu50z   -1        8.95s 0     sleep 100\n"
     ],
     "name": "stdout"
    }
   ]
  },
  {
   "cell_type": "markdown",
   "metadata": {
    "id": "1Va1D21R78nt"
   },
   "source": [
    "To clear all the `finished` jobs from the list, use `-C` without argument."
   ]
  },
  {
   "cell_type": "code",
   "metadata": {
    "colab": {
     "base_uri": "https://localhost:8080/"
    },
    "id": "ClXGAffr7XeS",
    "outputId": "9bcf9ab0-adae-440c-b5a0-fb099596ea8f"
   },
   "source": [
    "!ts sleep 100\n",
    "!ts -C  # clear job list\n",
    "!ts"
   ],
   "execution_count": null,
   "outputs": [
    {
     "output_type": "stream",
     "text": [
      "6\n",
      "ID   State      Output               E-Level  Time   GPUs  Command [run=1/5]\n",
      "6    running    /tmp/ts-out.bOY0Sx                   0     sleep 100\n"
     ],
     "name": "stdout"
    }
   ]
  },
  {
   "cell_type": "markdown",
   "metadata": {
    "id": "bM2MLPzm7_rA"
   },
   "source": [
    "Finally, `ts -K` will kill the Task Spooler process."
   ]
  },
  {
   "cell_type": "code",
   "metadata": {
    "colab": {
     "base_uri": "https://localhost:8080/"
    },
    "id": "IbTclKam7jkw",
    "outputId": "71b044c8-f911-4cf8-b651-2aaaf60d0993"
   },
   "source": [
    "!ts -K  # lets kill Task Spooler\n",
    "!ts  # then restarts"
   ],
   "execution_count": null,
   "outputs": [
    {
     "output_type": "stream",
     "text": [
      "ID   State      Output               E-Level  Time   GPUs  Command [run=0/1]\n"
     ],
     "name": "stdout"
    }
   ]
  },
  {
   "cell_type": "markdown",
   "metadata": {
    "id": "gmCWfV5d6jUD"
   },
   "source": [
    "There are some useful flags when scheduling tasks as well.\n",
    "You may want to execute a task only after a certain job finishes.\n",
    "In this case you can use the flag `-d` with no argument to make your future task depend on\n",
    "the last added job, `-D` with a comma separated list of job IDs which are\n",
    "the IDs of the jobs that the to-be-run task depends on, and `-W` followed by a list of IDs, which states that the dependent job will run iff all the dependencies finish with exit code `0`.\n",
    "For example, "
   ]
  },
  {
   "cell_type": "code",
   "metadata": {
    "colab": {
     "base_uri": "https://localhost:8080/"
    },
    "id": "P1FxRrZy8Jqf",
    "outputId": "13d162f3-4522-457a-e00e-84f617494497"
   },
   "source": [
    "!ts -S 10\n",
    "# lets queue 3 jobs first\n",
    "!ts sleep 100\n",
    "!ts sleep 100\n",
    "!ts sleep 200\n",
    "!ts"
   ],
   "execution_count": null,
   "outputs": [
    {
     "output_type": "stream",
     "text": [
      "0\n",
      "1\n",
      "2\n",
      "ID   State      Output               E-Level  Time   GPUs  Command [run=3/10]\n",
      "0    running    /tmp/ts-out.1wh18P                   0     sleep 100\n",
      "1    running    /tmp/ts-out.aqr1P0                   0     sleep 100\n",
      "2    running    /tmp/ts-out.SLCGX7                   0     sleep 200\n"
     ],
     "name": "stdout"
    }
   ]
  },
  {
   "cell_type": "code",
   "metadata": {
    "colab": {
     "base_uri": "https://localhost:8080/"
    },
    "id": "XMt8gYeP8Y1V",
    "outputId": "b1e49240-dda3-4e40-9b81-149b5d7df172"
   },
   "source": [
    "!ts -d sleep 10  # does not care about exit code\n",
    "!ts -D 0,1,3 sleep 10  # runs after jobs 0, 1 and 3\n",
    "!ts -W 0,2,3 sleep 10  # to run this job, jobs 0, 2 and 3 need to finish well\n",
    "!ts"
   ],
   "execution_count": null,
   "outputs": [
    {
     "output_type": "stream",
     "text": [
      "3\n",
      "4\n",
      "5\n",
      "ID   State      Output               E-Level  Time   GPUs  Command [run=3/10]\n",
      "0    running    /tmp/ts-out.1wh18P                   0     sleep 100\n",
      "1    running    /tmp/ts-out.aqr1P0                   0     sleep 100\n",
      "2    running    /tmp/ts-out.SLCGX7                   0     sleep 200\n",
      "3    queued     (file)                               0     [2]&& sleep 10\n",
      "4    queued     (file)                               0     [0,1,3]&& sleep 10\n",
      "5    queued     (file)                               0     [0,2,3]&& sleep 10\n"
     ],
     "name": "stdout"
    }
   ]
  },
  {
   "cell_type": "code",
   "metadata": {
    "colab": {
     "base_uri": "https://localhost:8080/"
    },
    "id": "FLHUJYgO8qJH",
    "outputId": "7c446b27-d3b7-4c45-8093-a8a4a63755b2"
   },
   "source": [
    "!ts -k 2\n",
    "!ts"
   ],
   "execution_count": null,
   "outputs": [
    {
     "output_type": "stream",
     "text": [
      "ID   State      Output               E-Level  Time   GPUs  Command [run=3/10]\n",
      "0    running    /tmp/ts-out.1wh18P                   0     sleep 100\n",
      "1    running    /tmp/ts-out.aqr1P0                   0     sleep 100\n",
      "3    running    /tmp/ts-out.suaN1K                   0     [2]&& sleep 10\n",
      "4    queued     (file)                               0     [0,1,3]&& sleep 10\n",
      "5    queued     (file)                               0     [0,2,3]&& sleep 10\n",
      "2    finished   /tmp/ts-out.SLCGX7   -1       10.35s 0     sleep 200\n"
     ],
     "name": "stdout"
    }
   ]
  },
  {
   "cell_type": "code",
   "metadata": {
    "colab": {
     "base_uri": "https://localhost:8080/"
    },
    "id": "VvxaXOSc8vxD",
    "outputId": "dc802070-c735-4726-83a3-009c47803690"
   },
   "source": [
    "!sleep 100  # let's wait for jobs 0 and 1 to finish\n",
    "!ts  # you will see that the job queued with `-W` will be skipped"
   ],
   "execution_count": null,
   "outputs": [
    {
     "output_type": "stream",
     "text": [
      "ID   State      Output               E-Level  Time   GPUs  Command [run=0/10]\n",
      "2    finished   /tmp/ts-out.SLCGX7   -1       10.35s 0     sleep 200\n",
      "3    finished   /tmp/ts-out.suaN1K   0        10.00s 0     [2]&& sleep 10\n",
      "0    finished   /tmp/ts-out.1wh18P   0         1.67m 0     sleep 100\n",
      "5    skipped    (no output)                          0     [0,2,3]&& sleep 10\n",
      "1    finished   /tmp/ts-out.aqr1P0   0         1.67m 0     sleep 100\n",
      "4    finished   /tmp/ts-out.yV8vfT   0        10.00s 0     [0,1,3]&& sleep 10\n"
     ],
     "name": "stdout"
    }
   ]
  },
  {
   "cell_type": "markdown",
   "metadata": {
    "id": "X0N3RKH4-clg"
   },
   "source": [
    "To distinguish tasks, you can also label them using the `-L` flag."
   ]
  },
  {
   "cell_type": "code",
   "metadata": {
    "colab": {
     "base_uri": "https://localhost:8080/"
    },
    "id": "oBgrjrjy-sZM",
    "outputId": "0cdb3345-c804-4859-b270-7a1394d83553"
   },
   "source": [
    "!ts -L foo sleep 10"
   ],
   "execution_count": null,
   "outputs": [
    {
     "output_type": "stream",
     "text": [
      "6\n"
     ],
     "name": "stdout"
    }
   ]
  },
  {
   "cell_type": "code",
   "metadata": {
    "colab": {
     "base_uri": "https://localhost:8080/"
    },
    "id": "4oQuXcqU-xkT",
    "outputId": "14d7a5c9-50f0-4851-eb04-1146fc0258b6"
   },
   "source": [
    "!ts"
   ],
   "execution_count": null,
   "outputs": [
    {
     "output_type": "stream",
     "text": [
      "ID   State      Output               E-Level  Time   GPUs  Command [run=0/10]\n",
      "2    finished   /tmp/ts-out.SLCGX7   -1       10.35s 0     sleep 200\n",
      "3    finished   /tmp/ts-out.suaN1K   0        10.00s 0     [2]&& sleep 10\n",
      "0    finished   /tmp/ts-out.1wh18P   0         1.67m 0     sleep 100\n",
      "5    skipped    (no output)                          0     [0,2,7303014]&& sleep 10\n",
      "1    finished   /tmp/ts-out.aqr1P0   0         1.67m 0     sleep 100\n",
      "4    finished   /tmp/ts-out.yV8vfT   0        10.00s 0     [0,1,3]&& sleep 10\n",
      "6    finished   /tmp/ts-out.EO9Qct   0        10.00s 0     [foo]sleep 10\n"
     ],
     "name": "stdout"
    }
   ]
  },
  {
   "cell_type": "markdown",
   "metadata": {
    "id": "3KIGdpWY-37u"
   },
   "source": [
    "## GPU support\n",
    "\n",
    "The `GPUs` column shows the number of GPUs that the task requires.\n",
    "\n",
    "Before, when running CPU tasks, the number of parallel tasks is capped by the \n",
    "number of slots.\n",
    "For a GPU task, it is further restricted by the number of available GPUs.\n",
    "In other words, a GPU task can run only when there are enough both slots and GPUs.\n",
    "The availability of a GPU is determined by the free memory of that GPU.\n",
    "If more than 90% of the memory is available, the GPU is deemed to be free, and vice versa.\n",
    "If there are more free GPUs than required, the GPUs will be chosen auto-magically and randomly.\n",
    "\n",
    "There is one thing to note here. Because the availability of a GPU is determined by its\n",
    "memory usage, and it may take time for your task to initialize the GPU memory, so if you \n",
    "run two tasks at the same time, they may use the same device and eventually may crash due to\n",
    "out-of-memory error.\n",
    "Therefore, in Task Spooler, I deliberately delay subsequent GPU tasks a short time \n",
    "(30 seconds by default) after a GPU task is just executed.\n",
    "This is ugly, but it does the job.\n",
    "You can change this delay time via the flag `--set_gpu_wait` followed by the number of seconds.\n",
    "That's why when you execute several jobs at once, you may find the tasks after the first one \n",
    "taking a long time to start execution.\n",
    "Also sometimes you may see the job status being changed to `running` but the task is not actually\n",
    "executed yet, and there is no output file. This is usual. Just keep waiting... It will be \n",
    "executed soon (or sometimes not very soon, but anw it will run)!\n",
    "\n",
    "Now, to tell Task Spooler that your job requires GPU, use `-G` followed by the number of \n",
    "required GPUs. Task Spooler will allocate the GPU(s) for the job, and it will make your job see\n",
    "only the provided GPU(s) so your task won't mess with the others.\n",
    "For a stupid example, let's sleep with 1 GPU. In your terminal, execute\n"
   ]
  },
  {
   "cell_type": "code",
   "metadata": {
    "colab": {
     "base_uri": "https://localhost:8080/"
    },
    "id": "rZ1-tUoF--Wc",
    "outputId": "eafea093-d925-4f74-e6fc-f4fef63934a2"
   },
   "source": [
    "!ts -K\n",
    "!ts -G 1 sleep 1\n",
    "!ts"
   ],
   "execution_count": null,
   "outputs": [
    {
     "output_type": "stream",
     "text": [
      "0\n",
      "ID   State      Output               E-Level  Time   GPUs  Command [run=1/1]\n",
      "0    running    /tmp/ts-out.N6RDHT                   1     sleep 1\n"
     ],
     "name": "stdout"
    }
   ]
  },
  {
   "cell_type": "markdown",
   "source": [
    "If you demand more GPUs than available, however, it will queue the task even though there are enough slots."
   ],
   "metadata": {
    "collapsed": false,
    "pycharm": {
     "name": "#%% md\n"
    }
   }
  },
  {
   "cell_type": "code",
   "metadata": {
    "colab": {
     "base_uri": "https://localhost:8080/"
    },
    "id": "2kNEM9VB_2Z4",
    "outputId": "5e1abbed-b1ef-4691-ac01-de0bbc81679e"
   },
   "source": [
    "!ts -G 100 sleep 1\n",
    "!ts"
   ],
   "execution_count": null,
   "outputs": [
    {
     "output_type": "stream",
     "text": [
      "1\n",
      "ID   State      Output               E-Level  Time   GPUs  Command [run=0/1]\n",
      "1    allocating (file)                               100   sleep 1\n",
      "0    finished   /tmp/ts-out.N6RDHT   0         1.00s 1     sleep 1\n"
     ],
     "name": "stdout"
    }
   ]
  },
  {
   "cell_type": "markdown",
   "metadata": {
    "id": "287jL4TrAFAj"
   },
   "source": [
    "In the figure, I demanded 100 GPUs even though the server has only 1, and hence the task has\n",
    "to be queued (in this case, forever).\n",
    "\n",
    "We haven’t done anything useful yet. In the next section, let’s see how to manage your deep learning experiments using Task Spooler."
   ]
  },
  {
   "cell_type": "markdown",
   "metadata": {
    "id": "u1OGbpmNAHuP"
   },
   "source": [
    "## Deep learning with Task Spooler\n",
    "\n",
    "\n",
    "Let's train a Convolutional Neural Network (CNN) on MNIST.\n",
    "For this example, I will use the official [Pytorch MNIST example](https://github.com/pytorch/examples/blob/master/mnist/main.py).\n",
    "To enable the code to use muti-GPU, you will have to manually add \n",
    "\n",
    "```\n",
    "model = nn.DataParallel(model)\n",
    "```\n",
    "after line 124 (`optimizer = optim.Adadelta(model.parameters(), lr=args.lr)`).\n",
    "You can download the script by executing the cell below."
   ]
  },
  {
   "cell_type": "code",
   "metadata": {
    "id": "7KSAj1vIrTt0"
   },
   "source": [
    "%%capture\n",
    "!wget https://open-source-codes.s3.amazonaws.com/mnist.py"
   ],
   "execution_count": 5,
   "outputs": []
  },
  {
   "cell_type": "markdown",
   "metadata": {
    "id": "ym0oZK13uig7"
   },
   "source": [
    "To train the CNN with Task Spooler using 1 GPU, execute the script as usual in terminal \n",
    "but with `ts -G 1` before `python`. The full command is"
   ]
  },
  {
   "cell_type": "code",
   "metadata": {
    "colab": {
     "base_uri": "https://localhost:8080/"
    },
    "id": "odpDXUkkAm3t",
    "outputId": "76b3d419-68f7-433f-f572-179dc3f381b6"
   },
   "source": [
    "!ts -K\n",
    "!ts -G 1 python mnist.py\n",
    "!ts"
   ],
   "execution_count": 6,
   "outputs": [
    {
     "output_type": "stream",
     "text": [
      "0\n",
      "ID   State      Output               E-Level  Time   GPUs  Command [run=1/1]\n",
      "0    running    /tmp/ts-out.xwvuBP                   1     python mnist.py\n"
     ],
     "name": "stdout"
    }
   ]
  },
  {
   "cell_type": "markdown",
   "metadata": {
    "id": "lI0yTomWAtqS"
   },
   "source": [
    "Note that without the `-G` flag, the job will run on CPU instead.\n",
    "\n",
    "To see the output, use the `-c` or `-t` flag.\n",
    "You should see the training in real-time. You can use `ctrl+c` to stop getting stdout anytime without actually canceling the experiment."
   ]
  },
  {
   "cell_type": "code",
   "metadata": {
    "id": "xYgTFzZWA2jt"
   },
   "source": [
    "%%capture\n",
    "!ts -t 0"
   ],
   "execution_count": 7,
   "outputs": []
  },
  {
   "cell_type": "code",
   "metadata": {
    "colab": {
     "base_uri": "https://localhost:8080/"
    },
    "id": "J0THhvNLBBCi",
    "outputId": "39371f17-1ded-4699-fda9-c22220479cf2"
   },
   "source": [
    "!ts"
   ],
   "execution_count": 8,
   "outputs": [
    {
     "output_type": "stream",
     "text": [
      "ID   State      Output               E-Level  Time   GPUs  Command [run=1/1]\n",
      "0    running    /tmp/ts-out.xwvuBP                   1     python mnist.py\n"
     ],
     "name": "stdout"
    }
   ]
  },
  {
   "cell_type": "markdown",
   "metadata": {
    "id": "qy8NA-lrBFfI"
   },
   "source": [
    "Unfortunately, there is only 1 GPU available in Colab, so I can't demonstrate training with multiple GPUs. You will have to trust me that it works!\n",
    "\n",
    "That's it folks. I hope this little app can boost your productivity and you will enjoy\n",
    "using it for not only your experiments but also your daily tasks.\n",
    "If you have any questions or want to contribute, feel free to create an issue\n",
    "or make a PR on the [Github page](https://github.com/justanhduc/task-spooler)."
   ]
  },
  {
   "cell_type": "markdown",
   "metadata": {
    "collapsed": false,
    "pycharm": {
     "name": "#%% md\n"
    },
    "id": "Uy2rDoGG5RIT"
   },
   "source": [
    "## About me\n",
    "\n",
    "I am Duc Nguyen from Vietnam.\n",
    "Currently, I am a PhD candidate at Yonsei University, Korea.\n",
    "For more information about me,\n",
    "you guys can visit [my website](https://justanhduc.github.io/) or contact me at\n",
    "[this email](mailto:adnguyen@yonsei.ac.kr).\n"
   ]
  }
 ]
}