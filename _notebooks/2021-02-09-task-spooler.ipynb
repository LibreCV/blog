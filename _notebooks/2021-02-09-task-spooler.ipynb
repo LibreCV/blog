{
 "nbformat": 4,
 "nbformat_minor": 0,
 "metadata": {
  "colab": {
   "name": "2021-02-09-task-spooler.ipynb",
   "provenance": [],
   "collapsed_sections": []
  },
  "kernelspec": {
   "name": "python3",
   "language": "python",
   "display_name": "Python 3"
  },
  "accelerator": "GPU"
 },
 "cells": [
  {
   "cell_type": "markdown",
   "metadata": {
    "id": "Th0gzqt626I2"
   },
   "source": [
    "# Deep Learning Experiments with Task Spooler\n",
    "> A Unix Spooler with GPU support\n",
    "\n",
    "- toc: false\n",
    "- branch: master\n",
    "- badges: true\n",
    "- comments: false\n",
    "- categories: [spooler, task manager, deep learning]\n"
   ]
  },
  {
   "cell_type": "markdown",
   "metadata": {
    "collapsed": false,
    "pycharm": {
     "name": "#%% md\n"
    },
    "id": "MF4KLO785RH8"
   },
   "source": [
    "## Introduction\n",
    "\n",
    "Task Spooler was originally developed by Lluis Batlle i Rossell but is no longer maintained.\n",
    "The branch introduced here is a [fork](https://github.com/justanhduc/task-spooler) of the original program with more features including GPU support."
   ]
  },
  {
   "cell_type": "markdown",
   "metadata": {
    "id": "cV6B1W-O3Eam"
   },
   "source": [
    "## Installation\n",
    "\n",
    "First, you can clone Task Spooler from Github.\n",
    "Optionally, you can choose a different version by checking out another tag.\n",
    "In this tutorial, I will use the latest version on `master`."
   ]
  },
  {
   "cell_type": "code",
   "metadata": {
    "id": "mZ0PA4Lc1Sfx"
   },
   "source": [
    "%%capture\n",
    "!git clone https://github.com/justanhduc/task-spooler"
   ],
   "execution_count": 1,
   "outputs": []
  },
  {
   "cell_type": "markdown",
   "metadata": {
    "id": "SZwgvI9-3TyY"
   },
   "source": [
    "Next, you need to create a `CUDA_HOME` environment variable to point to the CUDA root directory.\n",
    "Then, you can execute the given install script."
   ]
  },
  {
   "cell_type": "code",
   "metadata": {
    "colab": {
     "base_uri": "https://localhost:8080/"
    },
    "id": "3YP2619O1ols",
    "outputId": "cc1650b1-bc15-456f-d504-8263bc1b52f8"
   },
   "source": [
    "!cd task-spooler/ && CUDA_HOME=/usr/local/cuda ./reinstall"
   ],
   "execution_count": 2,
   "outputs": [
    {
     "output_type": "stream",
     "text": [
      "rm -f *.o ts\n",
      "cc -pedantic -ansi -Wall -g -O0 -std=c11 -D_XOPEN_SOURCE=500 -D__STRICT_ANSI__ -c main.c\n",
      "cc -pedantic -ansi -Wall -g -O0 -std=c11 -D_XOPEN_SOURCE=500 -D__STRICT_ANSI__ -c server.c\n",
      "cc -pedantic -ansi -Wall -g -O0 -std=c11 -D_XOPEN_SOURCE=500 -D__STRICT_ANSI__ -c server_start.c\n",
      "cc -pedantic -ansi -Wall -g -O0 -std=c11 -D_XOPEN_SOURCE=500 -D__STRICT_ANSI__ -c client.c\n",
      "cc -pedantic -ansi -Wall -g -O0 -std=c11 -D_XOPEN_SOURCE=500 -D__STRICT_ANSI__ -c msgdump.c\n",
      "cc -pedantic -ansi -Wall -g -O0 -std=c11 -D_XOPEN_SOURCE=500 -D__STRICT_ANSI__ -c jobs.c\n",
      "cc -pedantic -ansi -Wall -g -O0 -std=c11 -D_XOPEN_SOURCE=500 -D__STRICT_ANSI__ -c execute.c\n",
      "cc -pedantic -ansi -Wall -g -O0 -std=c11 -D_XOPEN_SOURCE=500 -D__STRICT_ANSI__ -c msg.c\n",
      "cc -pedantic -ansi -Wall -g -O0 -std=c11 -D_XOPEN_SOURCE=500 -D__STRICT_ANSI__ -c mail.c\n",
      "cc -pedantic -ansi -Wall -g -O0 -std=c11 -D_XOPEN_SOURCE=500 -D__STRICT_ANSI__ -c error.c\n",
      "cc -pedantic -ansi -Wall -g -O0 -std=c11 -D_XOPEN_SOURCE=500 -D__STRICT_ANSI__ -c signals.c\n",
      "cc -pedantic -ansi -Wall -g -O0 -std=c11 -D_XOPEN_SOURCE=500 -D__STRICT_ANSI__ -c list.c\n",
      "cc -pedantic -ansi -Wall -g -O0 -std=c11 -D_XOPEN_SOURCE=500 -D__STRICT_ANSI__ -c print.c\n",
      "cc -pedantic -ansi -Wall -g -O0 -std=c11 -D_XOPEN_SOURCE=500 -D__STRICT_ANSI__ -c info.c\n",
      "cc -pedantic -ansi -Wall -g -O0 -std=c11 -D_XOPEN_SOURCE=500 -D__STRICT_ANSI__ -c env.c\n",
      "cc -pedantic -ansi -Wall -g -O0 -std=c11 -D_XOPEN_SOURCE=500 -D__STRICT_ANSI__ -c tail.c\n",
      "cc -pedantic -ansi -Wall -g -O0 -std=c11 -D_XOPEN_SOURCE=500 -D__STRICT_ANSI__ -L/usr/local/cuda/lib64 -I/usr/local/cuda/include -lpthread -c gpu.c\n",
      "In file included from \u001B[01m\u001B[Kgpu.c:6:0\u001B[m\u001B[K:\n",
      "\u001B[01m\u001B[K/usr/local/cuda/include/nvml.h:6208:51:\u001B[m\u001B[K \u001B[01;35m\u001B[Kwarning: \u001B[m\u001B[KISO C restricts enumerator values to range of ‘\u001B[01m\u001B[Kint\u001B[m\u001B[K’ [\u001B[01;35m\u001B[K-Wpedantic\u001B[m\u001B[K]\n",
      "     NVML_VGPU_COMPATIBILITY_LIMIT_OTHER         = \u001B[01;35m\u001B[K0x80000000\u001B[m\u001B[K,    //!< Compatibility is limited by an undefined factor.\n",
      "                                                   \u001B[01;35m\u001B[K^~~~~~~~~~\u001B[m\u001B[K\n",
      "cc  -o ts main.o server.o server_start.o client.o msgdump.o jobs.o execute.o msg.o mail.o error.o signals.o list.o print.o info.o env.o tail.o gpu.o -L/usr/local/cuda/lib64 -L/usr/local/cuda/lib64/stubs -I/usr/local/cuda/include -lpthread -lcudart -lcublas -fopenmp -lnvidia-ml\n",
      "make: 'uninstall' is up to date.\n",
      "install -c -d /usr/local/bin\n",
      "install -c ts /usr/local/bin\n",
      "install -c -d /usr/local/share/man/man1\n",
      "install -c -m 644 ts.1 /usr/local/share/man/man1\n"
     ],
     "name": "stdout"
    }
   ]
  },
  {
   "cell_type": "markdown",
   "metadata": {
    "id": "MdMNJYzO2fSI"
   },
   "source": [
    "## Basics of Task Spooler\n",
    "### First look\n",
    "The interface of Task Spooler is shown below by simply executing `ts` without argument.\n",
    "In the figure above, `ID` refers to job ID.\n",
    "There are four main types of `State`: `running` indicates that a job is currently running,\n",
    "`queued` that a CPU job is waiting to be executed, `allocating` is a queued GPU job,\n",
    "and `running` means the job is currently being executed.\n",
    "When a job is executed, the `stdout` stream is redirected to a file under the `Output` tab.\n",
    "These log files will never automatically deleted even after the job list is cleared.\n",
    "`E-Level` captures and displays the return error of a process.\n",
    "`Time` indicates the running time of a job.\n",
    "The running command is shown in the `Command` column.\n",
    "The numbers inside the square bracket next to `Command` specify the number of currently running\n",
    "jobs and the maximum jobs (slots) that can be run in parallel.\n",
    "For example, in the figure above, there is no running job and you can run at most one job in \n",
    "parallel, respectively.\n",
    "The maximum slot number can be adjusted manually.\n"
   ]
  },
  {
   "cell_type": "code",
   "metadata": {
    "colab": {
     "base_uri": "https://localhost:8080/"
    },
    "id": "F3nM5Qs92MC3",
    "outputId": "48d36c46-1f34-4f37-b820-13ec0238749d"
   },
   "source": [
    "!ts"
   ],
   "execution_count": 3,
   "outputs": [
    {
     "output_type": "stream",
     "text": [
      "ID   State      Output               E-Level  Time   GPUs  Command [run=0/1]\n"
     ],
     "name": "stdout"
    }
   ]
  },
  {
   "cell_type": "markdown",
   "metadata": {
    "id": "LB6pAJZo2vDe"
   },
   "source": [
    "### Queuing your first job\n",
    "\n",
    "Jobs can be added by simply appending `ts` in front of your command.\n",
    "For e.g., to run make the system sleep for 10 seconds using Task Spooler, execute"
   ]
  },
  {
   "cell_type": "code",
   "metadata": {
    "colab": {
     "base_uri": "https://localhost:8080/"
    },
    "id": "Ey9T-LnN4fqy",
    "outputId": "c327f2b5-ffaf-4935-bffd-e202af44ed1e"
   },
   "source": [
    "!ts sleep 10\n",
    "!ts\n",
    "!sleep 10  # lets check ts again after 10 seconds\n",
    "!ts"
   ],
   "execution_count": 4,
   "outputs": [
    {
     "output_type": "stream",
     "text": [
      "0\n",
      "ID   State      Output               E-Level  Time   GPUs  Command [run=1/1]\n",
      "0    running    /tmp/ts-out.j0MGwO                   0     sleep 10\n",
      "ID   State      Output               E-Level  Time   GPUs  Command [run=0/1]\n",
      "0    finished   /tmp/ts-out.j0MGwO   0        10.00s 0     sleep 10\n"
     ],
     "name": "stdout"
    }
   ]
  },
  {
   "cell_type": "markdown",
   "metadata": {
    "id": "-oKjuEFD4j_4"
   },
   "source": [
    "You can see that the first job with ID `0` is currently running, and\n",
    "the other job is being queued.\n",
    "After 10 seconds, the first job will finish with an `E-Level` of `0` and \n",
    "the second job will start.\n",
    "\n",
    "To enable running more jobs in parallel, you can increase the maximum slot number by\n",
    "using a `-S` flag followed by the desired number.\n",
    "For instance,"
   ]
  },
  {
   "cell_type": "code",
   "metadata": {
    "colab": {
     "base_uri": "https://localhost:8080/"
    },
    "id": "buV6tfWJ5N6K",
    "outputId": "5b2496a3-e2a7-4b7c-9c42-965fbeb891fc"
   },
   "source": [
    "!ts -S 4\n",
    "!ts"
   ],
   "execution_count": 5,
   "outputs": [
    {
     "output_type": "stream",
     "text": [
      "ID   State      Output               E-Level  Time   GPUs  Command [run=0/4]\n",
      "0    finished   /tmp/ts-out.j0MGwO   0        10.00s 0     sleep 10\n"
     ],
     "name": "stdout"
    }
   ]
  },
  {
   "cell_type": "markdown",
   "metadata": {
    "id": "-G4a228m5TZe"
   },
   "source": [
    "The command above allows you to run 4 jobs at the same time.\n",
    "You can verify by typing `ts` and the last number in the square bracket should change to `4`.\n",
    "Let's try queuing 5 jobs at once and this time we should increase the sleep time to \n",
    "`100` so that the job doesn't end too fast.\n",
    "You should be able to see something like this\n"
   ]
  },
  {
   "cell_type": "code",
   "metadata": {
    "colab": {
     "base_uri": "https://localhost:8080/"
    },
    "id": "UPUWW7655ek2",
    "outputId": "ebdc0d10-f42b-4541-cbd1-df99056f042a"
   },
   "source": [
    "!ts sleep 100\n",
    "!ts sleep 20\n",
    "!ts sleep 30\n",
    "!ts sleep 40\n",
    "!ts sleep 10\n",
    "!ts"
   ],
   "execution_count": 6,
   "outputs": [
    {
     "output_type": "stream",
     "text": [
      "1\n",
      "2\n",
      "3\n",
      "4\n",
      "5\n",
      "ID   State      Output               E-Level  Time   GPUs  Command [run=4/4]\n",
      "1    running    /tmp/ts-out.xDq00e                   0     sleep 100\n",
      "2    running    /tmp/ts-out.HUzUai                   0     sleep 20\n",
      "3    running    /tmp/ts-out.sYcGno                   0     sleep 30\n",
      "4    running    /tmp/ts-out.ArV4nv                   0     sleep 40\n",
      "5    queued     (file)                               0     sleep 10\n",
      "0    finished   /tmp/ts-out.j0MGwO   0        10.00s 0     sleep 10\n"
     ],
     "name": "stdout"
    }
   ]
  },
  {
   "cell_type": "markdown",
   "metadata": {
    "id": "MxyRL1I152ir"
   },
   "source": [
    "### Vieing command outputs\n",
    "\n",
    "As mentioned above, the `stdout` of the command is redirected to a file specified in the \n",
    "`Output` column. \n",
    "To manually see the written output, you can simply look for that file.\n",
    "But of course Task Spooler is more than that. It lets you read the outputs contents in two ways\n",
    "via the flags `-t` and `-c`.\n",
    "\n",
    "`-c`, which stands for `cat`, allows you to see all the output from the beginning to the end.\n",
    "`-t`, which means `tail`, displays only the last 10 lines of the output.\n",
    "Let's try them out.\n",
    "First, we can something that can produce a lot of texts, like `ls`, `df` or `du`.\n",
    "The choice is yours.\n",
    "For me, I ran `ts ls /usr/bin`. The job ID of the command in my case is `0` so to visualize \n",
    "the whole output, I used `ts -c 0`. It displayed a long list of excutable files.\n",
    "When I typed `ts -t 0`, it showed only the last 10 lines.\n"
   ]
  },
  {
   "cell_type": "code",
   "metadata": {
    "colab": {
     "base_uri": "https://localhost:8080/"
    },
    "id": "cFE27syx6Cmk",
    "outputId": "e5958d02-c0a7-4bca-f282-4d0708dfab3b"
   },
   "source": [
    "#collapse-output\n",
    "!ts -K  # reset Task Spooler. it will be introduced later\n",
    "!ts ls /usr/bin\n",
    "!ts -t 0"
   ],
   "execution_count": 7,
   "outputs": [
    {
     "output_type": "stream",
     "text": [
      "0\n",
      "yes\n",
      "zdump\n",
      "zip\n",
      "zipcloak\n",
      "zipdetails\n",
      "zipgrep\n",
      "zipinfo\n",
      "zipnote\n",
      "zipsplit\n",
      "zrun\n"
     ],
     "name": "stdout"
    }
   ]
  },
  {
   "cell_type": "code",
   "metadata": {
    "colab": {
     "base_uri": "https://localhost:8080/"
    },
    "id": "fx-7toBJ6RK5",
    "outputId": "fba69a1a-31c5-469f-e38c-a65c8bfe67c6"
   },
   "source": [
    "#collapse-output\n",
    "\n",
    "!ts -c 0"
   ],
   "execution_count": 8,
   "outputs": [
    {
     "output_type": "stream",
     "text": [
      "[\n",
      "2to3-2.7\n",
      "7z\n",
      "7za\n",
      "7zr\n",
      "acyclic\n",
      "add-apt-repository\n",
      "addpart\n",
      "addr2line\n",
      "apropos\n",
      "apt\n",
      "apt-add-repository\n",
      "apt-cache\n",
      "apt-cdrom\n",
      "apt-config\n",
      "apt-extracttemplates\n",
      "apt-ftparchive\n",
      "apt-get\n",
      "apt-key\n",
      "apt-mark\n",
      "apt-sortpkgs\n",
      "ar\n",
      "arch\n",
      "as\n",
      "asan_symbolize\n",
      "asan_symbolize-6.0\n",
      "assistant\n",
      "awk\n",
      "b2\n",
      "b2sum\n",
      "base32\n",
      "base64\n",
      "basename\n",
      "bashbug\n",
      "bcomps\n",
      "bcp\n",
      "bjam\n",
      "bootctl\n",
      "browse\n",
      "bsd-from\n",
      "bsd-write\n",
      "busctl\n",
      "c++\n",
      "c89\n",
      "c89-gcc\n",
      "c99\n",
      "c99-gcc\n",
      "cal\n",
      "calendar\n",
      "captoinfo\n",
      "catchsegv\n",
      "catman\n",
      "cautious-launcher\n",
      "cc\n",
      "ccomps\n",
      "c++filt\n",
      "chage\n",
      "chattr\n",
      "chcon\n",
      "chfn\n",
      "chronic\n",
      "chrt\n",
      "chsh\n",
      "circo\n",
      "cksum\n",
      "clang\n",
      "clang++\n",
      "clang-6.0\n",
      "clang++-6.0\n",
      "clang-cpp-6.0\n",
      "clear\n",
      "clear_console\n",
      "clinfo\n",
      "cluster\n",
      "cmake\n",
      "cmp\n",
      "col\n",
      "colcrt\n",
      "colrm\n",
      "column\n",
      "combine\n",
      "comm\n",
      "compose\n",
      "corelist\n",
      "cpack\n",
      "cpan\n",
      "cpan5.26-x86_64-linux-gnu\n",
      "cpp\n",
      "cpp-7\n",
      "c_rehash\n",
      "csplit\n",
      "ctest\n",
      "curl\n",
      "curl-config\n",
      "cut\n",
      "cvt\n",
      "dbus-cleanup-sockets\n",
      "dbus-daemon\n",
      "dbus-monitor\n",
      "dbus-run-session\n",
      "dbus-send\n",
      "dbus-update-activation-environment\n",
      "dbus-uuidgen\n",
      "debconf\n",
      "debconf-apt-progress\n",
      "debconf-communicate\n",
      "debconf-copydb\n",
      "debconf-escape\n",
      "debconf-set-selections\n",
      "debconf-show\n",
      "deb-systemd-helper\n",
      "deb-systemd-invoke\n",
      "delpart\n",
      "derb\n",
      "designer\n",
      "dh_dkms\n",
      "dh_numpy\n",
      "dh_numpy3\n",
      "dh_pypy\n",
      "dh_python2\n",
      "dh_python3\n",
      "diff\n",
      "diff3\n",
      "diffimg\n",
      "dijkstra\n",
      "dircolors\n",
      "dirmngr\n",
      "dirmngr-client\n",
      "dirname\n",
      "dot\n",
      "dot2gxl\n",
      "dot_builtins\n",
      "dotty\n",
      "dpkg\n",
      "dpkg-architecture\n",
      "dpkg-buildflags\n",
      "dpkg-buildpackage\n",
      "dpkg-checkbuilddeps\n",
      "dpkg-deb\n",
      "dpkg-distaddfile\n",
      "dpkg-divert\n",
      "dpkg-genbuildinfo\n",
      "dpkg-genchanges\n",
      "dpkg-gencontrol\n",
      "dpkg-gensymbols\n",
      "dpkg-maintscript-helper\n",
      "dpkg-mergechangelogs\n",
      "dpkg-name\n",
      "dpkg-parsechangelog\n",
      "dpkg-query\n",
      "dpkg-scanpackages\n",
      "dpkg-scansources\n",
      "dpkg-shlibdeps\n",
      "dpkg-source\n",
      "dpkg-split\n",
      "dpkg-statoverride\n",
      "dpkg-trigger\n",
      "dpkg-vendor\n",
      "du\n",
      "dumpsexp\n",
      "dwp\n",
      "edgepaint\n",
      "edit\n",
      "elfedit\n",
      "enc2xs\n",
      "encguess\n",
      "env\n",
      "epsg_tr.py\n",
      "eqn\n",
      "errno\n",
      "esri2wkt.py\n",
      "expand\n",
      "expiry\n",
      "expr\n",
      "f2py\n",
      "f2py2.7\n",
      "f2py3\n",
      "f2py3.6\n",
      "f77\n",
      "f95\n",
      "factor\n",
      "faillog\n",
      "fallocate\n",
      "fc-cache\n",
      "fc-cat\n",
      "fc-list\n",
      "fc-match\n",
      "fc-pattern\n",
      "fc-query\n",
      "fc-scan\n",
      "fc-validate\n",
      "fdp\n",
      "ffmpeg\n",
      "ffplay\n",
      "ffprobe\n",
      "ffserver\n",
      "fi_info\n",
      "file-rename\n",
      "find\n",
      "fio\n",
      "fio2gnuplot\n",
      "fio-btrace2fio\n",
      "fio-dedupe\n",
      "fio_generate_plots\n",
      "fio-genzipf\n",
      "fi_pingpong\n",
      "fi_strerror\n",
      "flock\n",
      "fmt\n",
      "fold\n",
      "free\n",
      "freetype-config\n",
      "from\n",
      "funzip\n",
      "g++\n",
      "g++-7\n",
      "gapplication\n",
      "gc\n",
      "gcc\n",
      "gcc-7\n",
      "gcc-ar\n",
      "gcc-ar-7\n",
      "gcc-nm\n",
      "gcc-nm-7\n",
      "gcc-ranlib\n",
      "gcc-ranlib-7\n",
      "gcov\n",
      "gcov-7\n",
      "gcov-dump\n",
      "gcov-dump-7\n",
      "gcov-tool\n",
      "gcov-tool-7\n",
      "gcps2vec.py\n",
      "gcps2wld.py\n",
      "gdal2tiles.py\n",
      "gdal2xyz.py\n",
      "gdaladdo\n",
      "gdal_auth.py\n",
      "gdalbuildvrt\n",
      "gdal_calc.py\n",
      "gdalchksum.py\n",
      "gdalcompare.py\n",
      "gdal_contour\n",
      "gdaldem\n",
      "gdal_edit.py\n",
      "gdalenhance\n",
      "gdal_fillnodata.py\n",
      "gdal_grid\n",
      "gdalident.py\n",
      "gdalimport.py\n",
      "gdalinfo\n",
      "gdallocationinfo\n",
      "gdalmanage\n",
      "gdal_merge.py\n",
      "gdalmove.py\n",
      "gdal_pansharpen.py\n",
      "gdal_polygonize.py\n",
      "gdal_proximity.py\n",
      "gdal_rasterize\n",
      "gdal_retile.py\n",
      "gdalserver\n",
      "gdal_sieve.py\n",
      "gdalsrsinfo\n",
      "gdaltindex\n",
      "gdaltransform\n",
      "gdal_translate\n",
      "gdalwarp\n",
      "gdbus\n",
      "gdbus-codegen\n",
      "genbrk\n",
      "gencat\n",
      "gencfu\n",
      "gencnval\n",
      "gendict\n",
      "genfio\n",
      "genrb\n",
      "geqn\n",
      "getconf\n",
      "getent\n",
      "getopt\n",
      "gfortran\n",
      "gfortran-7\n",
      "gio\n",
      "gio-querymodules\n",
      "git\n",
      "git-receive-pack\n",
      "git-shell\n",
      "git-upload-archive\n",
      "git-upload-pack\n",
      "glib-compile-resources\n",
      "glib-compile-schemas\n",
      "glib-genmarshal\n",
      "glib-gettextize\n",
      "glib-mkenums\n",
      "gml2gv\n",
      "gnmanalyse\n",
      "gnmmanage\n",
      "gobject-query\n",
      "gold\n",
      "google-pprof\n",
      "gpasswd\n",
      "gpg\n",
      "gpg2\n",
      "gpg-agent\n",
      "gpgconf\n",
      "gpg-connect-agent\n",
      "gpg-error\n",
      "gpg-error-config\n",
      "gpgparsemail\n",
      "gpgsm\n",
      "gpgsplit\n",
      "gpgv\n",
      "gpg-wks-server\n",
      "gpg-zip\n",
      "gpic\n",
      "gprof\n",
      "graphml2gv\n",
      "gresource\n",
      "groff\n",
      "grog\n",
      "grops\n",
      "grotty\n",
      "groups\n",
      "gsettings\n",
      "gtbl\n",
      "gtester\n",
      "gtester-report\n",
      "gtf\n",
      "gtk-update-icon-cache\n",
      "gv2gml\n",
      "gv2gxl\n",
      "gvcolor\n",
      "gvgen\n",
      "gvmap\n",
      "gvmap.sh\n",
      "gvpack\n",
      "gvpr\n",
      "gxl2dot\n",
      "gxl2gv\n",
      "h2ph\n",
      "h2xs\n",
      "h5c++\n",
      "h5cc\n",
      "h5fc\n",
      "hd\n",
      "head\n",
      "hexdump\n",
      "hmac256\n",
      "hostid\n",
      "hostnamectl\n",
      "i386\n",
      "iconv\n",
      "icu-config\n",
      "icuinfo\n",
      "id\n",
      "ifdata\n",
      "ifne\n",
      "infocmp\n",
      "infotocap\n",
      "inspect\n",
      "install\n",
      "instmodsh\n",
      "ionice\n",
      "ipcmk\n",
      "ipcrm\n",
      "ipcs\n",
      "ischroot\n",
      "isutf8\n",
      "jaotc\n",
      "jar\n",
      "jarsigner\n",
      "java\n",
      "javac\n",
      "javadoc\n",
      "javap\n",
      "jcmd\n",
      "jdb\n",
      "jdeprscan\n",
      "jdeps\n",
      "jexec\n",
      "jfr\n",
      "jhsdb\n",
      "jimage\n",
      "jinfo\n",
      "jjs\n",
      "jlink\n",
      "jmap\n",
      "jmod\n",
      "join\n",
      "jps\n",
      "jrunscript\n",
      "jshell\n",
      "json_pp\n",
      "jstack\n",
      "jstat\n",
      "jstatd\n",
      "kbxutil\n",
      "kernel-install\n",
      "keytool\n",
      "killall\n",
      "last\n",
      "lastb\n",
      "lastlog\n",
      "lcf\n",
      "lckdo\n",
      "lconvert\n",
      "ld\n",
      "ld.bfd\n",
      "ldd\n",
      "ld.gold\n",
      "lefty\n",
      "less\n",
      "lessecho\n",
      "lessfile\n",
      "lesskey\n",
      "lesspipe\n",
      "lexgrog\n",
      "libgcrypt-config\n",
      "libnetcfg\n",
      "libpng16-config\n",
      "libpng-config\n",
      "linguist\n",
      "link\n",
      "linux32\n",
      "linux64\n",
      "lneato\n",
      "locale\n",
      "locale-check\n",
      "localectl\n",
      "localedef\n",
      "logger\n",
      "logname\n",
      "look\n",
      "lorder\n",
      "lrelease\n",
      "lsattr\n",
      "lsb_release\n",
      "lscpu\n",
      "lsipc\n",
      "lslocks\n",
      "lslogins\n",
      "lsmem\n",
      "lsns\n",
      "lsof\n",
      "lspgpot\n",
      "lupdate\n",
      "lzcat\n",
      "lzcmp\n",
      "lzdiff\n",
      "lzegrep\n",
      "lzfgrep\n",
      "lzgrep\n",
      "lzless\n",
      "lzma\n",
      "lzmainfo\n",
      "lzmore\n",
      "make\n",
      "makeconv\n",
      "make-first-existing-target\n",
      "man\n",
      "mandb\n",
      "manpath\n",
      "mawk\n",
      "mcookie\n",
      "md5sum\n",
      "md5sum.textutils\n",
      "mesg\n",
      "migrate-pubring-from-classic-gpg\n",
      "mingle\n",
      "mispipe\n",
      "mkfifo\n",
      "mkgraticule.py\n",
      "mm2gv\n",
      "moc\n",
      "mpic++\n",
      "mpicalc\n",
      "mpicc\n",
      "mpiCC\n",
      "mpicc.openmpi\n",
      "mpiCC.openmpi\n",
      "mpic++.openmpi\n",
      "mpicxx\n",
      "mpicxx.openmpi\n",
      "mpiexec\n",
      "mpiexec.openmpi\n",
      "mpif77\n",
      "mpif77.openmpi\n",
      "mpif90\n",
      "mpif90.openmpi\n",
      "mpifort\n",
      "mpifort.openmpi\n",
      "mpirun\n",
      "mpirun.openmpi\n",
      "mtrace\n",
      "namei\n",
      "nawk\n",
      "ncal\n",
      "ncurses5-config\n",
      "nearblack\n",
      "neato\n",
      "neqn\n",
      "newgrp\n",
      "nice\n",
      "nl\n",
      "nm\n",
      "nohup\n",
      "nop\n",
      "nproc\n",
      "nroff\n",
      "nsenter\n",
      "numfmt\n",
      "nvidia-bug-report.sh\n",
      "nvidia-cuda-mps-control\n",
      "nvidia-cuda-mps-server\n",
      "nvidia-debugdump\n",
      "nvidia-modprobe\n",
      "nvidia-ngx-updater\n",
      "nvidia-persistenced\n",
      "nvidia-settings\n",
      "nvidia-smi\n",
      "nvidia-xconfig\n",
      "objcopy\n",
      "objdump\n",
      "od\n",
      "odbcinst\n",
      "ogr2ogr\n",
      "ogrinfo\n",
      "ogrlineref\n",
      "ogrmerge.py\n",
      "ogrtindex\n",
      "ompi-clean\n",
      "ompi_info\n",
      "ompi-ps\n",
      "ompi-server\n",
      "ompi-top\n",
      "opalc++\n",
      "opalcc\n",
      "opal_wrapper\n",
      "opencv_annotation\n",
      "opencv_createsamples\n",
      "opencv_interactive-calibration\n",
      "opencv_traincascade\n",
      "opencv_version\n",
      "opencv_visualisation\n",
      "opencv_waldboost_detector\n",
      "openssl\n",
      "orte-clean\n",
      "orted\n",
      "orte-dvm\n",
      "orte-ps\n",
      "orterun\n",
      "orte-server\n",
      "orte-top\n",
      "osage\n",
      "oshcc\n",
      "oshfort\n",
      "oshmem_info\n",
      "oshrun\n",
      "p7zip\n",
      "pack200\n",
      "pager\n",
      "pandoc\n",
      "paperconf\n",
      "parallel\n",
      "partx\n",
      "passwd\n",
      "paste\n",
      "patch\n",
      "patchwork\n",
      "pathchk\n",
      "pcre2-config\n",
      "pcre-config\n",
      "pct2rgb.py\n",
      "pdb\n",
      "pdb2.7\n",
      "pdb3\n",
      "pdb3.6\n",
      "pee\n",
      "peekfd\n",
      "perl\n",
      "perl5.26.1\n",
      "perl5.26-x86_64-linux-gnu\n",
      "perlbug\n",
      "perldoc\n",
      "perlivp\n",
      "perlthanks\n",
      "pgrep\n",
      "pic\n",
      "piconv\n",
      "pinentry\n",
      "pinentry-curses\n",
      "pinky\n",
      "pixeltool\n",
      "pkaction\n",
      "pkcheck\n",
      "pkexec\n",
      "pkg-config\n",
      "pkgdata\n",
      "pkill\n",
      "pkttyagent\n",
      "pl2pm\n",
      "pldd\n",
      "pmap\n",
      "pod2html\n",
      "pod2man\n",
      "pod2text\n",
      "pod2usage\n",
      "podchecker\n",
      "podselect\n",
      "pr\n",
      "preconv\n",
      "prename\n",
      "print\n",
      "printenv\n",
      "printerbanner\n",
      "printf\n",
      "prlimit\n",
      "protoc\n",
      "prove\n",
      "prtstat\n",
      "prune\n",
      "pslog\n",
      "pstree\n",
      "pstree.x11\n",
      "ptar\n",
      "ptardiff\n",
      "ptargrep\n",
      "ptx\n",
      "pwdx\n",
      "py3clean\n",
      "py3compile\n",
      "py3versions\n",
      "pybuild\n",
      "pyclean\n",
      "pycompile\n",
      "pydoc\n",
      "pydoc2.7\n",
      "pydoc3\n",
      "pydoc3.6\n",
      "pygettext\n",
      "pygettext2.7\n",
      "pygettext3\n",
      "pygettext3.6\n",
      "python\n",
      "python2\n",
      "python2.7\n",
      "python2.7-config\n",
      "python2-config\n",
      "python3\n",
      "python3.6\n",
      "python3.6-config\n",
      "python3.6m\n",
      "python3.6m-config\n",
      "python3-config\n",
      "python3m\n",
      "python3m-config\n",
      "python-config\n",
      "pyversions\n",
      "qcollectiongenerator\n",
      "qdbus\n",
      "qdbuscpp2xml\n",
      "qdbusviewer\n",
      "qdbusxml2cpp\n",
      "qdoc\n",
      "qdoc3\n",
      "qgltf\n",
      "qhelpconverter\n",
      "qhelpgenerator\n",
      "qlalr\n",
      "qmake\n",
      "qml\n",
      "qml1plugindump\n",
      "qmlbundle\n",
      "qmlcachegen\n",
      "qmleasing\n",
      "qmlimportscanner\n",
      "qmljs\n",
      "qmllint\n",
      "qmlmin\n",
      "qmlplugindump\n",
      "qmlprofiler\n",
      "qmlscene\n",
      "qmltestrunner\n",
      "qmlviewer\n",
      "qtchooser\n",
      "qtconfig\n",
      "qtdiag\n",
      "qt-faststart\n",
      "qtpaths\n",
      "qtplugininfo\n",
      "quickbook\n",
      "qvkgen\n",
      "R\n",
      "ranlib\n",
      "rcc\n",
      "rcp\n",
      "readelf\n",
      "realpath\n",
      "rename\n",
      "rename.ul\n",
      "renice\n",
      "repc\n",
      "reset\n",
      "resizepart\n",
      "rev\n",
      "rgb2pct.py\n",
      "rgrep\n",
      "rlogin\n",
      "rmic\n",
      "rmid\n",
      "rmiregistry\n",
      "rpcgen\n",
      "Rscript\n",
      "rsh\n",
      "rsync\n",
      "runcon\n",
      "run-mailcap\n",
      "savelog\n",
      "sccmap\n",
      "scp\n",
      "script\n",
      "scriptreplay\n",
      "sdiff\n",
      "see\n",
      "select-editor\n",
      "sensible-browser\n",
      "sensible-editor\n",
      "sensible-pager\n",
      "seq\n",
      "serialver\n",
      "setarch\n",
      "setsid\n",
      "setterm\n",
      "setxkbmap\n",
      "sfdp\n",
      "sftp\n",
      "sg\n",
      "sha1sum\n",
      "sha224sum\n",
      "sha256sum\n",
      "sha384sum\n",
      "sha512sum\n",
      "shasum\n",
      "shred\n",
      "shuf\n",
      "size\n",
      "skill\n",
      "slabtop\n",
      "slogin\n",
      "snice\n",
      "soelim\n",
      "sort\n",
      "sotruss\n",
      "splain\n",
      "split\n",
      "sponge\n",
      "sprof\n",
      "ssh\n",
      "ssh-add\n",
      "ssh-agent\n",
      "ssh-argv0\n",
      "ssh-copy-id\n",
      "ssh-keygen\n",
      "ssh-keyscan\n",
      "stat\n",
      "stdbuf\n",
      "strings\n",
      "strip\n",
      "sudo\n",
      "sudoedit\n",
      "sudoreplay\n",
      "sum\n",
      "symcryptrun\n",
      "systemd-analyze\n",
      "systemd-cat\n",
      "systemd-cgls\n",
      "systemd-cgtop\n",
      "systemd-delta\n",
      "systemd-detect-virt\n",
      "systemd-mount\n",
      "systemd-path\n",
      "systemd-resolve\n",
      "systemd-run\n",
      "systemd-socket-activate\n",
      "systemd-stdio-bridge\n",
      "systemd-umount\n",
      "tabs\n",
      "tac\n",
      "tail\n",
      "taskset\n",
      "tbl\n",
      "tclsh\n",
      "tclsh8.6\n",
      "tcltk-depends\n",
      "tee\n",
      "test\n",
      "testepsg\n",
      "tic\n",
      "timedatectl\n",
      "timeout\n",
      "tload\n",
      "tmux\n",
      "toe\n",
      "top\n",
      "touch\n",
      "tput\n",
      "tr\n",
      "tred\n",
      "troff\n",
      "truncate\n",
      "ts\n",
      "tset\n",
      "tsort\n",
      "tty\n",
      "twopi\n",
      "tzselect\n",
      "ucf\n",
      "ucfq\n",
      "ucfr\n",
      "uconv\n",
      "uic\n",
      "uic3\n",
      "ul\n",
      "unexpand\n",
      "unflatten\n",
      "uniq\n",
      "unlink\n",
      "unlzma\n",
      "unpack200\n",
      "unrar\n",
      "unrar-nonfree\n",
      "unshare\n",
      "unxz\n",
      "unzip\n",
      "unzipsfx\n",
      "update-alternatives\n",
      "update-mime-database\n",
      "uptime\n",
      "users\n",
      "utmpdump\n",
      "vidir\n",
      "vimdot\n",
      "vipe\n",
      "vmstat\n",
      "w\n",
      "wall\n",
      "watch\n",
      "watchgnupg\n",
      "wayland-scanner\n",
      "wc\n",
      "wget\n",
      "whatis\n",
      "whereis\n",
      "which\n",
      "who\n",
      "whoami\n",
      "wish\n",
      "wish8.6\n",
      "w.procps\n",
      "write\n",
      "X\n",
      "X11\n",
      "x86_64\n",
      "x86_64-linux-gnu-addr2line\n",
      "x86_64-linux-gnu-ar\n",
      "x86_64-linux-gnu-as\n",
      "x86_64-linux-gnu-c++filt\n",
      "x86_64-linux-gnu-cpp\n",
      "x86_64-linux-gnu-cpp-7\n",
      "x86_64-linux-gnu-dwp\n",
      "x86_64-linux-gnu-elfedit\n",
      "x86_64-linux-gnu-g++\n",
      "x86_64-linux-gnu-g++-7\n",
      "x86_64-linux-gnu-gcc\n",
      "x86_64-linux-gnu-gcc-7\n",
      "x86_64-linux-gnu-gcc-ar\n",
      "x86_64-linux-gnu-gcc-ar-7\n",
      "x86_64-linux-gnu-gcc-nm\n",
      "x86_64-linux-gnu-gcc-nm-7\n",
      "x86_64-linux-gnu-gcc-ranlib\n",
      "x86_64-linux-gnu-gcc-ranlib-7\n",
      "x86_64-linux-gnu-gcov\n",
      "x86_64-linux-gnu-gcov-7\n",
      "x86_64-linux-gnu-gcov-dump\n",
      "x86_64-linux-gnu-gcov-dump-7\n",
      "x86_64-linux-gnu-gcov-tool\n",
      "x86_64-linux-gnu-gcov-tool-7\n",
      "x86_64-linux-gnu-gfortran\n",
      "x86_64-linux-gnu-gfortran-7\n",
      "x86_64-linux-gnu-gold\n",
      "x86_64-linux-gnu-gprof\n",
      "x86_64-linux-gnu-ld\n",
      "x86_64-linux-gnu-ld.bfd\n",
      "x86_64-linux-gnu-ld.gold\n",
      "x86_64-linux-gnu-nm\n",
      "x86_64-linux-gnu-objcopy\n",
      "x86_64-linux-gnu-objdump\n",
      "x86_64-linux-gnu-pkg-config\n",
      "x86_64-linux-gnu-python2.7-config\n",
      "x86_64-linux-gnu-python3.6-config\n",
      "x86_64-linux-gnu-python3.6m-config\n",
      "x86_64-linux-gnu-python3-config\n",
      "x86_64-linux-gnu-python3m-config\n",
      "x86_64-linux-gnu-python-config\n",
      "x86_64-linux-gnu-qmake\n",
      "x86_64-linux-gnu-ranlib\n",
      "x86_64-linux-gnu-readelf\n",
      "x86_64-linux-gnu-size\n",
      "x86_64-linux-gnu-strings\n",
      "x86_64-linux-gnu-strip\n",
      "x86_64-pc-linux-gnu-pkg-config\n",
      "xargs\n",
      "xauth\n",
      "xdg-desktop-icon\n",
      "xdg-desktop-menu\n",
      "xdg-email\n",
      "xdg-icon-resource\n",
      "xdg-mime\n",
      "xdg-open\n",
      "xdg-screensaver\n",
      "xdg-settings\n",
      "xkbbell\n",
      "xkbcomp\n",
      "xkbevd\n",
      "xkbprint\n",
      "xkbvleds\n",
      "xkbwatch\n",
      "xml2-config\n",
      "xmlpatterns\n",
      "xmlpatternsvalidator\n",
      "Xorg\n",
      "xsel\n",
      "xsubpp\n",
      "xz\n",
      "xzcat\n",
      "xzcmp\n",
      "xzdiff\n",
      "xzegrep\n",
      "xzfgrep\n",
      "xzgrep\n",
      "xzless\n",
      "xzmore\n",
      "yaml-bench-6.0\n",
      "yat2m\n",
      "yes\n",
      "zdump\n",
      "zip\n",
      "zipcloak\n",
      "zipdetails\n",
      "zipgrep\n",
      "zipinfo\n",
      "zipnote\n",
      "zipsplit\n",
      "zrun\n"
     ],
     "name": "stdout"
    }
   ]
  },
  {
   "cell_type": "markdown",
   "metadata": {
    "id": "3B7oha0o6WqJ"
   },
   "source": [
    "### Miscs\n",
    "\n",
    "There are many other flag options to manage your tasks.\n",
    "First of all, to see all the available options, use a `-h` options.\n",
    "Among these, the ones you probably will use most are `-r`, `-C`, `-k`, `-T` and `-K`.\n",
    "To remove a queued or finished job (with `finished`, `queued` or `allocating` status), \n",
    "use `-r` with optionally a job ID.\n",
    "For example, `ts -r` removes the last added job if it is not running yet.\n",
    "`ts -r 10` removes the job with ID `10`.\n",
    "If the job is successfully removed, it should disappear from the job list.\n",
    "\n",
    "\n"
   ]
  },
  {
   "cell_type": "code",
   "metadata": {
    "colab": {
     "base_uri": "https://localhost:8080/"
    },
    "id": "oLgyt9sr6k40",
    "outputId": "88ecfd56-7fc3-4ed2-e17b-c4c426d54a16"
   },
   "source": [
    "!ts -K\n",
    "!ts -S 2  # lets run 2 tasks at a time\n",
    "!ts sleep 100\n",
    "!ts sleep 100\n",
    "!ts sleep 100\n",
    "!ts"
   ],
   "execution_count": 18,
   "outputs": [
    {
     "output_type": "stream",
     "text": [
      "0\n",
      "1\n",
      "2\n",
      "ID   State      Output               E-Level  Time   GPUs  Command [run=2/2]\n",
      "0    running    /tmp/ts-out.gClvpl                   0     sleep 100\n",
      "1    running    /tmp/ts-out.rW9nIv                   0     sleep 100\n",
      "2    queued     (file)                               0     sleep 100\n"
     ],
     "name": "stdout"
    }
   ]
  },
  {
   "cell_type": "code",
   "metadata": {
    "colab": {
     "base_uri": "https://localhost:8080/"
    },
    "id": "XFrbTWwF64pZ",
    "outputId": "c281e9f7-f61e-4801-b148-aa162b2fc5a5"
   },
   "source": [
    "!ts -r 2  # remove job 2\n",
    "!ts"
   ],
   "execution_count": 19,
   "outputs": [
    {
     "output_type": "stream",
     "text": [
      "ID   State      Output               E-Level  Time   GPUs  Command [run=2/2]\n",
      "0    running    /tmp/ts-out.gClvpl                   0     sleep 100\n",
      "1    running    /tmp/ts-out.rW9nIv                   0     sleep 100\n"
     ],
     "name": "stdout"
    }
   ]
  },
  {
   "cell_type": "markdown",
   "metadata": {
    "id": "UbMO04R37dcv"
   },
   "source": [
    "To kill a running job, use `ts -k <jobid>`."
   ]
  },
  {
   "cell_type": "code",
   "metadata": {
    "colab": {
     "base_uri": "https://localhost:8080/"
    },
    "id": "n27AGKVC6_NQ",
    "outputId": "df6e9e79-e183-42db-eb0d-7912517e484b"
   },
   "source": [
    "!ts -k 0  # lets kill job 0\n",
    "!ts"
   ],
   "execution_count": 20,
   "outputs": [
    {
     "output_type": "stream",
     "text": [
      "ID   State      Output               E-Level  Time   GPUs  Command [run=1/2]\n",
      "1    running    /tmp/ts-out.rW9nIv                   0     sleep 100\n",
      "0    finished   /tmp/ts-out.gClvpl   -1        8.07s 0     sleep 100\n"
     ],
     "name": "stdout"
    }
   ]
  },
  {
   "cell_type": "code",
   "metadata": {
    "colab": {
     "base_uri": "https://localhost:8080/"
    },
    "id": "RV0tCROZ7I0q",
    "outputId": "744fca22-9d22-41be-a403-2442546a809e"
   },
   "source": [
    "# Queue some more jobs here\n",
    "!ts -S 5\n",
    "!ts sleep 100\n",
    "!ts sleep 100\n",
    "!ts sleep 100\n",
    "!ts"
   ],
   "execution_count": 21,
   "outputs": [
    {
     "output_type": "stream",
     "text": [
      "3\n",
      "4\n",
      "5\n",
      "ID   State      Output               E-Level  Time   GPUs  Command [run=4/5]\n",
      "1    running    /tmp/ts-out.rW9nIv                   0     sleep 100\n",
      "3    running    /tmp/ts-out.BeUKip                   0     sleep 100\n",
      "4    running    /tmp/ts-out.uFu50z                   0     sleep 100\n",
      "5    running    /tmp/ts-out.o0hd1F                   0     sleep 100\n",
      "0    finished   /tmp/ts-out.gClvpl   -1        8.07s 0     sleep 100\n"
     ],
     "name": "stdout"
    }
   ]
  },
  {
   "cell_type": "markdown",
   "metadata": {
    "id": "uX_gsls07xuD"
   },
   "source": [
    "To kill all running jobs, use `ts -T`."
   ]
  },
  {
   "cell_type": "code",
   "metadata": {
    "colab": {
     "base_uri": "https://localhost:8080/"
    },
    "id": "5cX0YiSm7Td0",
    "outputId": "5b02f897-1d40-4e65-d77a-b1c04f32ae83"
   },
   "source": [
    "!ts -T  # terminates all running jobs\n",
    "!ts"
   ],
   "execution_count": 22,
   "outputs": [
    {
     "output_type": "stream",
     "text": [
      "ID   State      Output               E-Level  Time   GPUs  Command [run=0/5]\n",
      "0    finished   /tmp/ts-out.gClvpl   -1        8.07s 0     sleep 100\n",
      "1    finished   /tmp/ts-out.rW9nIv   -1       22.42s 0     sleep 100\n",
      "5    finished   /tmp/ts-out.o0hd1F   -1        8.84s 0     sleep 100\n",
      "3    finished   /tmp/ts-out.BeUKip   -1        9.06s 0     sleep 100\n",
      "4    finished   /tmp/ts-out.uFu50z   -1        8.95s 0     sleep 100\n"
     ],
     "name": "stdout"
    }
   ]
  },
  {
   "cell_type": "markdown",
   "metadata": {
    "id": "1Va1D21R78nt"
   },
   "source": [
    "To clear all the `finished` jobs from the list, use `-C` without argument."
   ]
  },
  {
   "cell_type": "code",
   "metadata": {
    "colab": {
     "base_uri": "https://localhost:8080/"
    },
    "id": "ClXGAffr7XeS",
    "outputId": "9bcf9ab0-adae-440c-b5a0-fb099596ea8f"
   },
   "source": [
    "!ts sleep 100\n",
    "!ts -C  # clear job list\n",
    "!ts"
   ],
   "execution_count": 23,
   "outputs": [
    {
     "output_type": "stream",
     "text": [
      "6\n",
      "ID   State      Output               E-Level  Time   GPUs  Command [run=1/5]\n",
      "6    running    /tmp/ts-out.bOY0Sx                   0     sleep 100\n"
     ],
     "name": "stdout"
    }
   ]
  },
  {
   "cell_type": "markdown",
   "metadata": {
    "id": "bM2MLPzm7_rA"
   },
   "source": [
    "Finally, `ts -K` will kill the Task Spooler process."
   ]
  },
  {
   "cell_type": "code",
   "metadata": {
    "colab": {
     "base_uri": "https://localhost:8080/"
    },
    "id": "IbTclKam7jkw",
    "outputId": "71b044c8-f911-4cf8-b651-2aaaf60d0993"
   },
   "source": [
    "!ts -K  # lets kill Task Spooler\n",
    "!ts  # then restarts"
   ],
   "execution_count": 24,
   "outputs": [
    {
     "output_type": "stream",
     "text": [
      "ID   State      Output               E-Level  Time   GPUs  Command [run=0/1]\n"
     ],
     "name": "stdout"
    }
   ]
  },
  {
   "cell_type": "markdown",
   "metadata": {
    "id": "gmCWfV5d6jUD"
   },
   "source": [
    "There are some useful flags when scheduling tasks as well.\n",
    "You may want to execute a task only after a certain job finishes.\n",
    "In this case you can use the flag `-d` with no argument to make your future task depend on\n",
    "the last added job, `-D` with a comma separated list of job IDs which are\n",
    "the IDs of the jobs that the to-be-run task depends on, and `-W` followed by a list of IDs, which states that the dependent job will run iff all the dependencies finish with exit code `0`.\n",
    "For example, "
   ]
  },
  {
   "cell_type": "code",
   "metadata": {
    "colab": {
     "base_uri": "https://localhost:8080/"
    },
    "id": "P1FxRrZy8Jqf",
    "outputId": "13d162f3-4522-457a-e00e-84f617494497"
   },
   "source": [
    "!ts -S 10\n",
    "# lets queue 3 jobs first\n",
    "!ts sleep 100\n",
    "!ts sleep 100\n",
    "!ts sleep 200\n",
    "!ts"
   ],
   "execution_count": null,
   "outputs": [
    {
     "output_type": "stream",
     "text": [
      "0\n",
      "1\n",
      "2\n",
      "ID   State      Output               E-Level  Time   GPUs  Command [run=3/10]\n",
      "0    running    /tmp/ts-out.1wh18P                   0     sleep 100\n",
      "1    running    /tmp/ts-out.aqr1P0                   0     sleep 100\n",
      "2    running    /tmp/ts-out.SLCGX7                   0     sleep 200\n"
     ],
     "name": "stdout"
    }
   ]
  },
  {
   "cell_type": "code",
   "metadata": {
    "colab": {
     "base_uri": "https://localhost:8080/"
    },
    "id": "XMt8gYeP8Y1V",
    "outputId": "b1e49240-dda3-4e40-9b81-149b5d7df172"
   },
   "source": [
    "!ts -d sleep 10  # does not care about exit code\n",
    "!ts -D 0,1,3 sleep 10  # runs after jobs 0, 1 and 3\n",
    "!ts -W 0,2,3 sleep 10  # to run this job, jobs 0, 2 and 3 need to finish well\n",
    "!ts"
   ],
   "execution_count": null,
   "outputs": [
    {
     "output_type": "stream",
     "text": [
      "3\n",
      "4\n",
      "5\n",
      "ID   State      Output               E-Level  Time   GPUs  Command [run=3/10]\n",
      "0    running    /tmp/ts-out.1wh18P                   0     sleep 100\n",
      "1    running    /tmp/ts-out.aqr1P0                   0     sleep 100\n",
      "2    running    /tmp/ts-out.SLCGX7                   0     sleep 200\n",
      "3    queued     (file)                               0     [2]&& sleep 10\n",
      "4    queued     (file)                               0     [0,1,3]&& sleep 10\n",
      "5    queued     (file)                               0     [0,2,3]&& sleep 10\n"
     ],
     "name": "stdout"
    }
   ]
  },
  {
   "cell_type": "code",
   "metadata": {
    "colab": {
     "base_uri": "https://localhost:8080/"
    },
    "id": "FLHUJYgO8qJH",
    "outputId": "7c446b27-d3b7-4c45-8093-a8a4a63755b2"
   },
   "source": [
    "!ts -k 2\n",
    "!ts"
   ],
   "execution_count": null,
   "outputs": [
    {
     "output_type": "stream",
     "text": [
      "ID   State      Output               E-Level  Time   GPUs  Command [run=3/10]\n",
      "0    running    /tmp/ts-out.1wh18P                   0     sleep 100\n",
      "1    running    /tmp/ts-out.aqr1P0                   0     sleep 100\n",
      "3    running    /tmp/ts-out.suaN1K                   0     [2]&& sleep 10\n",
      "4    queued     (file)                               0     [0,1,3]&& sleep 10\n",
      "5    queued     (file)                               0     [0,2,3]&& sleep 10\n",
      "2    finished   /tmp/ts-out.SLCGX7   -1       10.35s 0     sleep 200\n"
     ],
     "name": "stdout"
    }
   ]
  },
  {
   "cell_type": "code",
   "metadata": {
    "colab": {
     "base_uri": "https://localhost:8080/"
    },
    "id": "VvxaXOSc8vxD",
    "outputId": "dc802070-c735-4726-83a3-009c47803690"
   },
   "source": [
    "!sleep 100  # let's wait for jobs 0 and 1 to finish\n",
    "!ts  # you will see that the job queued with `-W` will be skipped"
   ],
   "execution_count": null,
   "outputs": [
    {
     "output_type": "stream",
     "text": [
      "ID   State      Output               E-Level  Time   GPUs  Command [run=0/10]\n",
      "2    finished   /tmp/ts-out.SLCGX7   -1       10.35s 0     sleep 200\n",
      "3    finished   /tmp/ts-out.suaN1K   0        10.00s 0     [2]&& sleep 10\n",
      "0    finished   /tmp/ts-out.1wh18P   0         1.67m 0     sleep 100\n",
      "5    skipped    (no output)                          0     [0,2,3]&& sleep 10\n",
      "1    finished   /tmp/ts-out.aqr1P0   0         1.67m 0     sleep 100\n",
      "4    finished   /tmp/ts-out.yV8vfT   0        10.00s 0     [0,1,3]&& sleep 10\n"
     ],
     "name": "stdout"
    }
   ]
  },
  {
   "cell_type": "markdown",
   "metadata": {
    "id": "X0N3RKH4-clg"
   },
   "source": [
    "To distinguish tasks, you can also label them using the `-L` flag."
   ]
  },
  {
   "cell_type": "code",
   "metadata": {
    "colab": {
     "base_uri": "https://localhost:8080/"
    },
    "id": "oBgrjrjy-sZM",
    "outputId": "0cdb3345-c804-4859-b270-7a1394d83553"
   },
   "source": [
    "!ts -L foo sleep 10"
   ],
   "execution_count": null,
   "outputs": [
    {
     "output_type": "stream",
     "text": [
      "6\n"
     ],
     "name": "stdout"
    }
   ]
  },
  {
   "cell_type": "code",
   "metadata": {
    "colab": {
     "base_uri": "https://localhost:8080/"
    },
    "id": "4oQuXcqU-xkT",
    "outputId": "14d7a5c9-50f0-4851-eb04-1146fc0258b6"
   },
   "source": [
    "!ts"
   ],
   "execution_count": null,
   "outputs": [
    {
     "output_type": "stream",
     "text": [
      "ID   State      Output               E-Level  Time   GPUs  Command [run=0/10]\n",
      "2    finished   /tmp/ts-out.SLCGX7   -1       10.35s 0     sleep 200\n",
      "3    finished   /tmp/ts-out.suaN1K   0        10.00s 0     [2]&& sleep 10\n",
      "0    finished   /tmp/ts-out.1wh18P   0         1.67m 0     sleep 100\n",
      "5    skipped    (no output)                          0     [0,2,7303014]&& sleep 10\n",
      "1    finished   /tmp/ts-out.aqr1P0   0         1.67m 0     sleep 100\n",
      "4    finished   /tmp/ts-out.yV8vfT   0        10.00s 0     [0,1,3]&& sleep 10\n",
      "6    finished   /tmp/ts-out.EO9Qct   0        10.00s 0     [foo]sleep 10\n"
     ],
     "name": "stdout"
    }
   ]
  },
  {
   "cell_type": "markdown",
   "metadata": {
    "id": "3KIGdpWY-37u"
   },
   "source": [
    "## GPU support\n",
    "\n",
    "The `GPUs` column shows the number of GPUs that the task requires.\n",
    "\n",
    "Before, when running CPU tasks, the number of parallel tasks is capped by the \n",
    "number of slots.\n",
    "For a GPU task, it is further restricted by the number of available GPUs.\n",
    "In other words, a GPU task can run only when there are enough both slots and GPUs.\n",
    "The availability of a GPU is determined by the free memory of that GPU.\n",
    "If more than 90% of the memory is available, the GPU is deemed to be free, and vice versa.\n",
    "If there are more free GPUs than required, the GPUs will be chosen auto-magically and randomly.\n",
    "\n",
    "There is one thing to note here. Because the availability of a GPU is determined by its\n",
    "memory usage, and it may take time for your task to initialize the GPU memory, so if you \n",
    "run two tasks at the same time, they may use the same device and eventually may crash due to\n",
    "out-of-memory error.\n",
    "Therefore, in Task Spooler, I deliberately delay subsequent GPU tasks a short time \n",
    "(30 seconds by default) after a GPU task is just executed.\n",
    "This is ugly, but it does the job.\n",
    "You can change this delay time via the flag `--set_gpu_wait` followed by the number of seconds.\n",
    "That's why when you execute several jobs at once, you may find the tasks after the first one \n",
    "taking a long time to start execution.\n",
    "Also sometimes you may see the job status being changed to `running` but the task is not actually\n",
    "executed yet, and there is no output file. This is usual. Just keep waiting... It will be \n",
    "executed soon (or sometimes not very soon, but anw it will run)!\n",
    "\n",
    "Now, to tell Task Spooler that your job requires GPU, use `-G` followed by the number of \n",
    "required GPUs. Task Spooler will allocate the GPU(s) for the job, and it will make your job see\n",
    "only the provided GPU(s) so your task won't mess with the others.\n",
    "For a stupid example, let's sleep with 1 GPU. In your terminal, execute\n"
   ]
  },
  {
   "cell_type": "code",
   "metadata": {
    "colab": {
     "base_uri": "https://localhost:8080/"
    },
    "id": "rZ1-tUoF--Wc",
    "outputId": "eafea093-d925-4f74-e6fc-f4fef63934a2"
   },
   "source": [
    "!ts -K\n",
    "!ts -G 1 sleep 1\n",
    "!ts"
   ],
   "execution_count": null,
   "outputs": [
    {
     "output_type": "stream",
     "text": [
      "0\n",
      "ID   State      Output               E-Level  Time   GPUs  Command [run=1/1]\n",
      "0    running    /tmp/ts-out.N6RDHT                   1     sleep 1\n"
     ],
     "name": "stdout"
    }
   ]
  },
  {
   "cell_type": "code",
   "metadata": {
    "colab": {
     "base_uri": "https://localhost:8080/"
    },
    "id": "2kNEM9VB_2Z4",
    "outputId": "5e1abbed-b1ef-4691-ac01-de0bbc81679e"
   },
   "source": [
    "!ts -G 100 sleep 1\n",
    "!ts"
   ],
   "execution_count": null,
   "outputs": [
    {
     "output_type": "stream",
     "text": [
      "1\n",
      "ID   State      Output               E-Level  Time   GPUs  Command [run=0/1]\n",
      "1    allocating (file)                               100   sleep 1\n",
      "0    finished   /tmp/ts-out.N6RDHT   0         1.00s 1     sleep 1\n"
     ],
     "name": "stdout"
    }
   ]
  },
  {
   "cell_type": "markdown",
   "metadata": {
    "id": "287jL4TrAFAj"
   },
   "source": [
    "In the figure, I demanded 100 GPUs even though the server has only 1, and hence the task has\n",
    "to be queued (in this case, forever)."
   ]
  },
  {
   "cell_type": "markdown",
   "metadata": {
    "id": "u1OGbpmNAHuP"
   },
   "source": [
    "## Deep learning with Task Spooler\n",
    "\n",
    "\n",
    "Let's train a Convolutional Neural Network (CNN) on MNIST.\n",
    "For this example, I will use the official [Pytorch MNIST example](https://github.com/pytorch/examples/blob/master/mnist/main.py).\n",
    "To enable the code to use muti-GPU, you will have to manually add \n",
    "\n",
    "```\n",
    "model = nn.DataParallel(model)\n",
    "```\n",
    "after line 124 (`optimizer = optim.Adadelta(model.parameters(), lr=args.lr)`).\n",
    "You can download the script by executing the cell below."
   ]
  },
  {
   "cell_type": "code",
   "metadata": {
    "id": "7KSAj1vIrTt0"
   },
   "source": [
    "%%capture\n",
    "!wget https://open-source-codes.s3.amazonaws.com/mnist.py"
   ],
   "execution_count": 25,
   "outputs": []
  },
  {
   "cell_type": "markdown",
   "metadata": {
    "id": "ym0oZK13uig7"
   },
   "source": [
    "To train the CNN with Task Spooler using 1 GPU, execute the script as usual in terminal \n",
    "but with `ts -G 1` before `python`. The full command is"
   ]
  },
  {
   "cell_type": "code",
   "metadata": {
    "colab": {
     "base_uri": "https://localhost:8080/"
    },
    "id": "odpDXUkkAm3t",
    "outputId": "6726b9b7-e2cb-43fc-cfdf-a0a5366002a7"
   },
   "source": [
    "!ts -K\n",
    "!ts -G 1 python mnist.py\n",
    "!ts"
   ],
   "execution_count": 26,
   "outputs": [
    {
     "output_type": "stream",
     "text": [
      "0\n",
      "ID   State      Output               E-Level  Time   GPUs  Command [run=1/1]\n",
      "0    running    /tmp/ts-out.uCfJPL                   1     python mnist.py\n"
     ],
     "name": "stdout"
    }
   ]
  },
  {
   "cell_type": "markdown",
   "metadata": {
    "id": "lI0yTomWAtqS"
   },
   "source": [
    "Note that without the `-G` flag, the job will run on CPU instead.\n",
    "\n",
    "To see the output, use the `-c` or `-t` flag.\n",
    "You should see the training in real-time. You can use `ctrl+c` to stop getting stdout anytime without actually canceling the experiment."
   ]
  },
  {
   "cell_type": "code",
   "metadata": {
    "colab": {
     "base_uri": "https://localhost:8080/"
    },
    "id": "xYgTFzZWA2jt",
    "outputId": "ae01dd5e-ae58-4616-cb3b-99d75c471db4"
   },
   "source": [
    "#collapse-output\n",
    "\n",
    "!ts -t 0"
   ],
   "execution_count": 28,
   "outputs": [
    {
     "output_type": "stream",
     "text": [
      "\r0it [00:00, ?it/s]\r  0%|          | 0/9912422 [00:00<?, ?it/s]\r  0%|          | 16384/9912422 [00:00<01:18, 125345.15it/s]\r  1%|          | 98304/9912422 [00:00<01:00, 163252.10it/s]\r  4%|4         | 434176/9912422 [00:00<00:42, 225480.04it/s]\r 18%|#7        | 1753088/9912422 [00:00<00:25, 318272.54it/s]\r 54%|#####3    | 5349376/9912422 [00:00<00:10, 452888.99it/s]\r 78%|#######7  | 7716864/9912422 [00:01<00:03, 639356.13it/s]\r9920512it [00:01, 8147219.65it/s]                            \n",
      "\r0it [00:00, ?it/s]\r  0%|          | 0/28881 [00:00<?, ?it/s]\r32768it [00:00, 104284.59it/s]           \n",
      "\r0it [00:00, ?it/s]\r  0%|          | 0/1648877 [00:00<?, ?it/s]\r  1%|          | 16384/1648877 [00:00<00:11, 146567.16it/s]\r  6%|5         | 98304/1648877 [00:00<00:08, 185590.01it/s]\r 26%|##6       | 434176/1648877 [00:00<00:04, 255112.69it/s]\r1654784it [00:00, 2162067.57it/s]                           \n",
      "\r0it [00:00, ?it/s]\r  0%|          | 0/4542 [00:00<?, ?it/s]\r8192it [00:00, 38263.37it/s]            \n",
      "cuda\n",
      "Downloading http://yann.lecun.com/exdb/mnist/train-images-idx3-ubyte.gz to ../data/MNIST/raw/train-images-idx3-ubyte.gz\n",
      "Extracting ../data/MNIST/raw/train-images-idx3-ubyte.gz to ../data/MNIST/raw\n",
      "Downloading http://yann.lecun.com/exdb/mnist/train-labels-idx1-ubyte.gz to ../data/MNIST/raw/train-labels-idx1-ubyte.gz\n",
      "Extracting ../data/MNIST/raw/train-labels-idx1-ubyte.gz to ../data/MNIST/raw\n",
      "Downloading http://yann.lecun.com/exdb/mnist/t10k-images-idx3-ubyte.gz to ../data/MNIST/raw/t10k-images-idx3-ubyte.gz\n",
      "Extracting ../data/MNIST/raw/t10k-images-idx3-ubyte.gz to ../data/MNIST/raw\n",
      "Downloading http://yann.lecun.com/exdb/mnist/t10k-labels-idx1-ubyte.gz to ../data/MNIST/raw/t10k-labels-idx1-ubyte.gz\n",
      "Extracting ../data/MNIST/raw/t10k-labels-idx1-ubyte.gz to ../data/MNIST/raw\n",
      "Processing...\n",
      "Done!\n",
      "Train Epoch: 1 [0/60000 (0%)]\tLoss: 2.328017\n",
      "Train Epoch: 1 [640/60000 (1%)]\tLoss: 1.528519\n",
      "Train Epoch: 1 [1280/60000 (2%)]\tLoss: 0.820297\n",
      "Train Epoch: 1 [1920/60000 (3%)]\tLoss: 0.403560\n",
      "Train Epoch: 1 [2560/60000 (4%)]\tLoss: 0.423826\n",
      "Train Epoch: 1 [3200/60000 (5%)]\tLoss: 0.457214\n",
      "Train Epoch: 1 [3840/60000 (6%)]\tLoss: 0.431710\n",
      "Train Epoch: 1 [4480/60000 (7%)]\tLoss: 0.230752\n",
      "Train Epoch: 1 [5120/60000 (9%)]\tLoss: 0.620326\n",
      "Train Epoch: 1 [5760/60000 (10%)]\tLoss: 0.272938\n",
      "Train Epoch: 1 [6400/60000 (11%)]\tLoss: 0.302445\n",
      "Train Epoch: 1 [7040/60000 (12%)]\tLoss: 0.177356\n",
      "Train Epoch: 1 [7680/60000 (13%)]\tLoss: 0.291005\n",
      "Train Epoch: 1 [8320/60000 (14%)]\tLoss: 0.253087\n",
      "Train Epoch: 1 [8960/60000 (15%)]\tLoss: 0.412551\n",
      "Train Epoch: 1 [9600/60000 (16%)]\tLoss: 0.121895\n",
      "Train Epoch: 1 [10240/60000 (17%)]\tLoss: 0.108184\n",
      "Train Epoch: 1 [10880/60000 (18%)]\tLoss: 0.133024\n",
      "Train Epoch: 1 [11520/60000 (19%)]\tLoss: 0.305260\n",
      "Train Epoch: 1 [12160/60000 (20%)]\tLoss: 0.388796\n",
      "Train Epoch: 1 [12800/60000 (21%)]\tLoss: 0.293324\n",
      "Train Epoch: 1 [13440/60000 (22%)]\tLoss: 0.064106\n",
      "Train Epoch: 1 [14080/60000 (23%)]\tLoss: 0.130113\n",
      "Train Epoch: 1 [14720/60000 (25%)]\tLoss: 0.065892\n",
      "Train Epoch: 1 [15360/60000 (26%)]\tLoss: 0.168793\n",
      "Train Epoch: 1 [16000/60000 (27%)]\tLoss: 0.112089\n",
      "Train Epoch: 1 [16640/60000 (28%)]\tLoss: 0.075120\n",
      "Train Epoch: 1 [17280/60000 (29%)]\tLoss: 0.140563\n",
      "Train Epoch: 1 [17920/60000 (30%)]\tLoss: 0.147335\n",
      "Train Epoch: 1 [18560/60000 (31%)]\tLoss: 0.099679\n",
      "Train Epoch: 1 [19200/60000 (32%)]\tLoss: 0.127808\n",
      "Train Epoch: 1 [19840/60000 (33%)]\tLoss: 0.263228\n",
      "Train Epoch: 1 [20480/60000 (34%)]\tLoss: 0.123532\n",
      "Train Epoch: 1 [21120/60000 (35%)]\tLoss: 0.182129\n",
      "Train Epoch: 1 [21760/60000 (36%)]\tLoss: 0.189882\n",
      "^C\n"
     ],
     "name": "stdout"
    }
   ]
  },
  {
   "cell_type": "code",
   "metadata": {
    "colab": {
     "base_uri": "https://localhost:8080/"
    },
    "id": "J0THhvNLBBCi",
    "outputId": "4021099e-5153-469c-b8b8-6941c2790db4"
   },
   "source": [
    "!ts"
   ],
   "execution_count": 29,
   "outputs": [
    {
     "output_type": "stream",
     "text": [
      "ID   State      Output               E-Level  Time   GPUs  Command [run=1/1]\n",
      "0    running    /tmp/ts-out.uCfJPL                   1     python mnist.py\n"
     ],
     "name": "stdout"
    }
   ]
  },
  {
   "cell_type": "markdown",
   "metadata": {
    "id": "qy8NA-lrBFfI"
   },
   "source": [
    "Unfortunately, there is only 1 GPU available in Colab, so I can't demonstrate training with multiple GPUs. You will have to trust me that it works!\n",
    "\n",
    "That's it folks. I hope this little app can boost your productivity and you will enjoy\n",
    "using it for not only your experiments but also your daily tasks.\n",
    "If you have any questions or want to contribute, feel free to create an issue\n",
    "or make a PR on the [Github page](https://github.com/justanhduc/task-spooler)."
   ]
  },
  {
   "cell_type": "markdown",
   "metadata": {
    "collapsed": false,
    "pycharm": {
     "name": "#%% md\n"
    },
    "id": "Uy2rDoGG5RIT"
   },
   "source": [
    "## About me\n",
    "\n",
    "I am Duc Nguyen from Vietnam.\n",
    "Currently, I am a PhD candidate at Yonsei University, Korea.\n",
    "For more information about me,\n",
    "you guys can visit [my website](https://justanhduc.github.io/) or contact me at\n",
    "adnguyen@yonsei.ac.kr."
   ]
  }
 ]
}